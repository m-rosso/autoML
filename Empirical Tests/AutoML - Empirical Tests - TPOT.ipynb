{
 "cells": [
  {
   "cell_type": "markdown",
   "metadata": {
    "id": "BdsMp-XXXFrD"
   },
   "source": [
    "## AutoML\n",
    "## Empirical Tests - TPOT"
   ]
  },
  {
   "cell_type": "markdown",
   "metadata": {
    "id": "2psv99jLXFrW"
   },
   "source": [
    "This project aims to explore some of the main **AutoML tools** available, which involves the following tasks:\n",
    "1. Reading of technical articles concerning the automated machine learning field.\n",
    "2. Discussion about machine learning pipelines and the automation of some of their components.\n",
    "3. Identification of the most interesting Python libraries for automatic ML pipeline construction.\n",
    "4. Quick implementation of the selected tools with simulated data.\n",
    "5. Careful exploration of the APIs of the selected tools.\n",
    "6. Comparison among selected tools concerning: model performance, computation time, and usability.\n",
    "\n",
    "All of these activities derive from the **objectives** of this project, which are: i) reflection about ML pipeline components; ii) discussion and analysis of AutoML tools; iii) identification of key-points of AutoML frameworks; iv) definition of: the advantages and disadvantages of main AutoML tools, and, first of all, the relavance and adequacy of implementing AutoML."
   ]
  },
  {
   "cell_type": "markdown",
   "metadata": {
    "id": "PiuxVZ83XFrn"
   },
   "source": [
    "---------------------"
   ]
  },
  {
   "cell_type": "markdown",
   "metadata": {
    "id": "LbsDfnOTfWaA"
   },
   "source": [
    "In this series of notebooks, we test out different AutoML Python libraries and compare them according to the following criteria: performance metrics of developed pipelines evaluated on test data; computation time (i.e., the performance relative to the available time budget of the search process); and usability of the tool.\n",
    "\n",
    "* **Performance:** for each tool, after providing them with a training data (that will receive the appropriate validation approach by each tool), and after the search for the best ML pipeline, the selected one will be evaluated on a hold-out dataset (25% of the complete dataset). The model assessment will be based on the following metrics, since the supervised learning task is a binary classification here: [ROC-AUC](https://scikit-learn.org/stable/modules/generated/sklearn.metrics.roc_auc_score.html), [average precision score](https://scikit-learn.org/stable/modules/generated/sklearn.metrics.average_precision_score.html), [Brier score](https://scikit-learn.org/stable/modules/generated/sklearn.metrics.brier_score_loss.html), [accuracy](https://scikit-learn.org/stable/modules/generated/sklearn.metrics.accuracy_score.html), and [MCC](https://scikit-learn.org/stable/modules/generated/sklearn.metrics.matthews_corrcoef.html).\n",
    "\n",
    "* **Computation time:** all tested AutoML tools have some sort of time budget for the search process. Therefore, instead of minimizing the computation time across all tested tools, we will explore three different time budgets: 20 minutes, 1 hour, and 6 hours. Consequently, one of the main aspects of the comparison among tools will be the performance achieved by each one of them given different time budgets, besides of the average performance throughout all time budgets.\n",
    "\n",
    "* **Usability:** this aspect of the comparison refers to how easy it is to set up the search for each one of the tested tools. Also important are the outputs of the search process, mainly in terms of the visualization and assessment of constructed and selected pipelines. Besides, the diversity of produced information about the search and how clear it is to access and interpret these data are also an aspect to have in mind. Finally, the more straightforward it is to use a selected pipeline the better is the tool.\n",
    "\n",
    "The empirical tests follow the reading and discussing of the APIs of all selected tools. So, since the main initialization arguments, methods and attributes have been defined, they will be used accordingly in these notebooks.\n",
    "\n",
    "The data used for the empirical tests was found in Kaggle repository of datasets. It consists of a dataset for binary classification whose objective is to construct a classification algorithm for the [identification of malware apps](https://www.kaggle.com/saurabhshahane/android-permission-dataset). It has 27310 unique instances (mobile phone applications) and 184 variables, among which one is the binary outcome variable and another is the name of the app. Since the main objective of this project is to explore AutoML tools, only some basic feature engineering operations were implemented, besides of a short description and exploration of the data."
   ]
  },
  {
   "cell_type": "markdown",
   "metadata": {
    "id": "DYwz8EaYXFr4"
   },
   "source": [
    "------------"
   ]
  },
  {
   "cell_type": "markdown",
   "metadata": {
    "id": "o6klSsLAXFsI"
   },
   "source": [
    "**Summary:**\n",
    "1. [Libraries](#libraries)<a href='#libraries'></a>.\n",
    "2. [Functions and classes](#functions_classes)<a href='#functions_classes'></a>.\n",
    "3. [Settings](#settings)<a href='#settings'></a>.\n",
    "4. [Importing datasets](#imports)<a href='#imports'></a>.\n",
    "    * [Features and outcome variables](#feats_outcomes)<a href='#feats_outcomes'></a>.\n",
    "\n",
    "\n",
    "5. [Data description](#data_description)<a href='#data_description'></a>.\n",
    "6. [ML pipeline](#ml_pipeline)<a href='#ml_pipeline'></a>."
   ]
  },
  {
   "cell_type": "markdown",
   "metadata": {
    "id": "Ju5Y_GP_XFsN"
   },
   "source": [
    "<a id='libraries'></a>"
   ]
  },
  {
   "cell_type": "markdown",
   "metadata": {
    "id": "43qC5e8mXFsW"
   },
   "source": [
    "## Libraries"
   ]
  },
  {
   "cell_type": "code",
   "execution_count": 1,
   "metadata": {
    "colab": {
     "base_uri": "https://localhost:8080/"
    },
    "executionInfo": {
     "elapsed": 380,
     "status": "ok",
     "timestamp": 1631019706360,
     "user": {
      "displayName": "Matheus Rosso",
      "photoUrl": "",
      "userId": "07497572953789637511"
     },
     "user_tz": 180
    },
    "id": "YpihmCDDaCTr",
    "outputId": "00f3a815-ff00-410d-a3a8-2b512954be7c"
   },
   "outputs": [
    {
     "name": "stdout",
     "output_type": "stream",
     "text": [
      "Drive already mounted at /content/gdrive; to attempt to forcibly remount, call drive.mount(\"/content/gdrive\", force_remount=True).\n"
     ]
    }
   ],
   "source": [
    "from google.colab import drive\n",
    "drive.mount('/content/gdrive')"
   ]
  },
  {
   "cell_type": "code",
   "execution_count": 2,
   "metadata": {
    "colab": {
     "base_uri": "https://localhost:8080/"
    },
    "executionInfo": {
     "elapsed": 11,
     "status": "ok",
     "timestamp": 1631019706753,
     "user": {
      "displayName": "Matheus Rosso",
      "photoUrl": "",
      "userId": "07497572953789637511"
     },
     "user_tz": 180
    },
    "id": "KrGoigUMXQ3I",
    "outputId": "a68a20f2-20a6-471e-f164-b495310a46bf"
   },
   "outputs": [
    {
     "name": "stdout",
     "output_type": "stream",
     "text": [
      "/content/gdrive/MyDrive/Studies/autoML/Codes\n"
     ]
    }
   ],
   "source": [
    "cd \"/content/gdrive/MyDrive/Studies/autoML/Codes\""
   ]
  },
  {
   "cell_type": "code",
   "execution_count": 3,
   "metadata": {
    "executionInfo": {
     "elapsed": 8,
     "status": "ok",
     "timestamp": 1631019706754,
     "user": {
      "displayName": "Matheus Rosso",
      "photoUrl": "",
      "userId": "07497572953789637511"
     },
     "user_tz": 180
    },
    "id": "OljxpPihudlf"
   },
   "outputs": [],
   "source": [
    "# pip install tpot"
   ]
  },
  {
   "cell_type": "code",
   "execution_count": 4,
   "metadata": {
    "executionInfo": {
     "elapsed": 8,
     "status": "ok",
     "timestamp": 1631019706755,
     "user": {
      "displayName": "Matheus Rosso",
      "photoUrl": "",
      "userId": "07497572953789637511"
     },
     "user_tz": 180
    },
    "id": "R9ZeaaWK1_a0"
   },
   "outputs": [],
   "source": [
    "# pip install -r requirements.txt"
   ]
  },
  {
   "cell_type": "code",
   "execution_count": 5,
   "metadata": {
    "executionInfo": {
     "elapsed": 6,
     "status": "ok",
     "timestamp": 1631019707126,
     "user": {
      "displayName": "Matheus Rosso",
      "photoUrl": "",
      "userId": "07497572953789637511"
     },
     "user_tz": 180
    },
    "id": "eQm0NIaifmx6"
   },
   "outputs": [],
   "source": [
    "# pip uninstall scikit-learn"
   ]
  },
  {
   "cell_type": "code",
   "execution_count": 6,
   "metadata": {
    "executionInfo": {
     "elapsed": 10,
     "status": "ok",
     "timestamp": 1631019707888,
     "user": {
      "displayName": "Matheus Rosso",
      "photoUrl": "",
      "userId": "07497572953789637511"
     },
     "user_tz": 180
    },
    "id": "rh_UPT118HAr"
   },
   "outputs": [],
   "source": [
    "# pip install scikit-learn==0.24.2"
   ]
  },
  {
   "cell_type": "code",
   "execution_count": 7,
   "metadata": {
    "colab": {
     "base_uri": "https://localhost:8080/"
    },
    "executionInfo": {
     "elapsed": 5191,
     "status": "ok",
     "timestamp": 1631019726486,
     "user": {
      "displayName": "Matheus Rosso",
      "photoUrl": "",
      "userId": "07497572953789637511"
     },
     "user_tz": 180
    },
    "id": "IjOJB1U3XFsa",
    "outputId": "b8f41720-d8a0-48dd-9f1d-6d6fb2fe1986"
   },
   "outputs": [
    {
     "name": "stdout",
     "output_type": "stream",
     "text": [
      "TPOT: version 0.11.7.\n"
     ]
    }
   ],
   "source": [
    "import pandas as pd\n",
    "import numpy as np\n",
    "import os\n",
    "import json\n",
    "from datetime import datetime\n",
    "from time import time\n",
    "import pickle\n",
    "\n",
    "from sklearn.metrics import roc_auc_score, accuracy_score, average_precision_score, brier_score_loss, accuracy_score, matthews_corrcoef\n",
    "from sklearn.model_selection import RepeatedStratifiedKFold\n",
    "\n",
    "# pip install tpot\n",
    "import tpot # TPOT\n",
    "from tpot import TPOTClassifier\n",
    "print(f'TPOT: version {tpot.__version__}.')"
   ]
  },
  {
   "cell_type": "markdown",
   "metadata": {
    "id": "EY5vR9VjXFsj"
   },
   "source": [
    "<a id='functions_classes'></a>"
   ]
  },
  {
   "cell_type": "markdown",
   "metadata": {
    "id": "4xLBuTleXFss"
   },
   "source": [
    "## Functions and classes"
   ]
  },
  {
   "cell_type": "code",
   "execution_count": 8,
   "metadata": {
    "colab": {
     "base_uri": "https://localhost:8080/",
     "height": 17
    },
    "executionInfo": {
     "elapsed": 1465,
     "status": "ok",
     "timestamp": 1631019727936,
     "user": {
      "displayName": "Matheus Rosso",
      "photoUrl": "",
      "userId": "07497572953789637511"
     },
     "user_tz": 180
    },
    "id": "LyVQzshRXFst",
    "outputId": "63f1cdaa-dad8-416d-f79e-49579d203c0c"
   },
   "outputs": [
    {
     "data": {
      "text/html": [
       "        <script type=\"text/javascript\">\n",
       "        window.PlotlyConfig = {MathJaxConfig: 'local'};\n",
       "        if (window.MathJax) {MathJax.Hub.Config({SVG: {font: \"STIX-Web\"}});}\n",
       "        if (typeof require !== 'undefined') {\n",
       "        require.undef(\"plotly\");\n",
       "        requirejs.config({\n",
       "            paths: {\n",
       "                'plotly': ['https://cdn.plot.ly/plotly-latest.min']\n",
       "            }\n",
       "        });\n",
       "        require(['plotly'], function(Plotly) {\n",
       "            window._Plotly = Plotly;\n",
       "        });\n",
       "        }\n",
       "        </script>\n",
       "        "
      ]
     },
     "metadata": {},
     "output_type": "display_data"
    }
   ],
   "source": [
    "from utils import running_time, correct_col_name, train_test_split\n",
    "from pre_process import pre_process"
   ]
  },
  {
   "cell_type": "markdown",
   "metadata": {
    "id": "QMJ7WDAbXFsw"
   },
   "source": [
    "<a id='settings'></a>"
   ]
  },
  {
   "cell_type": "markdown",
   "metadata": {
    "id": "wvPthP8NXFsy"
   },
   "source": [
    "## Settings"
   ]
  },
  {
   "cell_type": "markdown",
   "metadata": {
    "id": "WWAU3vliXFsz"
   },
   "source": [
    "### Data management"
   ]
  },
  {
   "cell_type": "code",
   "execution_count": 9,
   "metadata": {
    "executionInfo": {
     "elapsed": 29,
     "status": "ok",
     "timestamp": 1631019727947,
     "user": {
      "displayName": "Matheus Rosso",
      "photoUrl": "",
      "userId": "07497572953789637511"
     },
     "user_tz": 180
    },
    "id": "gGl-bwyHXFs5"
   },
   "outputs": [],
   "source": [
    "# Identification of the test:\n",
    "estimation_id = str(int(time()))\n",
    "\n",
    "# Declare whether to export results:\n",
    "export = True"
   ]
  },
  {
   "cell_type": "markdown",
   "metadata": {
    "id": "7Y66lp7937gq"
   },
   "source": [
    "### ML pipeline search"
   ]
  },
  {
   "cell_type": "markdown",
   "metadata": {
    "id": "8ARot4UG3gL2"
   },
   "source": [
    "#### Search complexity parameters"
   ]
  },
  {
   "cell_type": "code",
   "execution_count": 10,
   "metadata": {
    "executionInfo": {
     "elapsed": 26,
     "status": "ok",
     "timestamp": 1631019727950,
     "user": {
      "displayName": "Matheus Rosso",
      "photoUrl": "",
      "userId": "07497572953789637511"
     },
     "user_tz": 180
    },
    "id": "sDbtGg9jbJRb"
   },
   "outputs": [],
   "source": [
    "# Time budget (minutes) for the algorithm to finally select the best pipeline:\n",
    "max_time_mins = 6*60\n",
    "\n",
    "# Time budget (minutes) for each tested pipeline:\n",
    "max_eval_time_mins = 5 if max_time_mins==20 else (30 if max_time_mins==6*60 else 20)"
   ]
  },
  {
   "cell_type": "markdown",
   "metadata": {
    "id": "rARSDzgP3oZf"
   },
   "source": [
    "#### Estimation parameters"
   ]
  },
  {
   "cell_type": "code",
   "execution_count": 11,
   "metadata": {
    "executionInfo": {
     "elapsed": 26,
     "status": "ok",
     "timestamp": 1631019727952,
     "user": {
      "displayName": "Matheus Rosso",
      "photoUrl": "",
      "userId": "07497572953789637511"
     },
     "user_tz": 180
    },
    "id": "kjZyB6ip3ilF"
   },
   "outputs": [],
   "source": [
    "# Cross-validation strategy for assessing tested pipelines:\n",
    "cv = 5\n",
    "\n",
    "# Performance metric optimized during the search:\n",
    "scoring = 'roc_auc'\n",
    "\n",
    "# Random fraction of training data used at each iteration:\n",
    "subsample = 0.75"
   ]
  },
  {
   "cell_type": "markdown",
   "metadata": {
    "id": "CpNJNgu_3so7"
   },
   "source": [
    "#### Computation parameters"
   ]
  },
  {
   "cell_type": "code",
   "execution_count": 12,
   "metadata": {
    "executionInfo": {
     "elapsed": 23,
     "status": "ok",
     "timestamp": 1631019727953,
     "user": {
      "displayName": "Matheus Rosso",
      "photoUrl": "",
      "userId": "07497572953789637511"
     },
     "user_tz": 180
    },
    "id": "IN7m2Lz43t1d"
   },
   "outputs": [],
   "source": [
    "# Number of processes to use in parallel:\n",
    "n_jobs = -1"
   ]
  },
  {
   "cell_type": "markdown",
   "metadata": {
    "id": "ayPmkxwKXFte"
   },
   "source": [
    "<a id='imports'></a>"
   ]
  },
  {
   "cell_type": "markdown",
   "metadata": {
    "id": "hUYnKvviXFte"
   },
   "source": [
    "## Importing datasets"
   ]
  },
  {
   "cell_type": "markdown",
   "metadata": {
    "id": "MacGdN4hXFtf"
   },
   "source": [
    "<a id='feats_outcomes'></a>"
   ]
  },
  {
   "cell_type": "markdown",
   "metadata": {
    "id": "54SasRuSXFtg"
   },
   "source": [
    "### Features and outcome variables"
   ]
  },
  {
   "cell_type": "code",
   "execution_count": 13,
   "metadata": {
    "colab": {
     "base_uri": "https://localhost:8080/",
     "height": 395
    },
    "executionInfo": {
     "elapsed": 3258,
     "status": "ok",
     "timestamp": 1631019731190,
     "user": {
      "displayName": "Matheus Rosso",
      "photoUrl": "",
      "userId": "07497572953789637511"
     },
     "user_tz": 180
    },
    "id": "od8vbTyJXFtg",
    "outputId": "7816405d-b093-4e90-99a7-fde3212c393a"
   },
   "outputs": [
    {
     "name": "stdout",
     "output_type": "stream",
     "text": [
      "Shape of data: (27310, 184).\n"
     ]
    },
    {
     "data": {
      "text/html": [
       "<div>\n",
       "<style scoped>\n",
       "    .dataframe tbody tr th:only-of-type {\n",
       "        vertical-align: middle;\n",
       "    }\n",
       "\n",
       "    .dataframe tbody tr th {\n",
       "        vertical-align: top;\n",
       "    }\n",
       "\n",
       "    .dataframe thead th {\n",
       "        text-align: right;\n",
       "    }\n",
       "</style>\n",
       "<table border=\"1\" class=\"dataframe\">\n",
       "  <thead>\n",
       "    <tr style=\"text-align: right;\">\n",
       "      <th></th>\n",
       "      <th>app</th>\n",
       "      <th>package</th>\n",
       "      <th>category</th>\n",
       "      <th>description</th>\n",
       "      <th>rating</th>\n",
       "      <th>number_of_ratings</th>\n",
       "      <th>price</th>\n",
       "      <th>related_apps</th>\n",
       "      <th>dangerous_permissions_count</th>\n",
       "      <th>safe_permissions_count</th>\n",
       "      <th>access_drm_content_</th>\n",
       "      <th>access_email_provider_data</th>\n",
       "      <th>access_all_system_downloads</th>\n",
       "      <th>access_download_manager_</th>\n",
       "      <th>advanced_download_manager_functions_</th>\n",
       "      <th>audio_file_access</th>\n",
       "      <th>install_drm_content_</th>\n",
       "      <th>modify_google_service_configuration</th>\n",
       "      <th>modify_google_settings</th>\n",
       "      <th>move_application_resources</th>\n",
       "      <th>read_google_settings</th>\n",
       "      <th>send_download_notifications_</th>\n",
       "      <th>voice_search_shortcuts</th>\n",
       "      <th>access_surfaceflinger</th>\n",
       "      <th>access_checkin_properties</th>\n",
       "      <th>access_the_cache_filesystem</th>\n",
       "      <th>access_to_passwords_for_google_accounts</th>\n",
       "      <th>act_as_an_account_authenticator</th>\n",
       "      <th>bind_to_a_wallpaper</th>\n",
       "      <th>bind_to_an_input_method</th>\n",
       "      <th>change_screen_orientation</th>\n",
       "      <th>coarse</th>\n",
       "      <th>control_location_update_notifications</th>\n",
       "      <th>control_system_backup_and_restore</th>\n",
       "      <th>delete_applications</th>\n",
       "      <th>delete_other_applications_caches</th>\n",
       "      <th>delete_other_applications_data</th>\n",
       "      <th>directly_call_any_phone_numbers</th>\n",
       "      <th>directly_install_applications</th>\n",
       "      <th>disable_or_modify_status_bar</th>\n",
       "      <th>...</th>\n",
       "      <th>your_accounts_access_other_google_services</th>\n",
       "      <th>your_accounts_act_as_an_account_authenticator</th>\n",
       "      <th>your_accounts_act_as_the_accountmanagerservice</th>\n",
       "      <th>your_accounts_contacts_data_in_google_accounts</th>\n",
       "      <th>your_accounts_discover_known_accounts</th>\n",
       "      <th>your_accounts_manage_the_accounts_list</th>\n",
       "      <th>your_accounts_read_google_service_configuration</th>\n",
       "      <th>your_accounts_use_the_authentication_credentials_of_an_account</th>\n",
       "      <th>your_accounts_view_configured_accounts</th>\n",
       "      <th>your_location_access_extra_location_provider_commands</th>\n",
       "      <th>your_location_coarse</th>\n",
       "      <th>your_location_fine</th>\n",
       "      <th>your_location_mock_location_sources_for_testing</th>\n",
       "      <th>your_messages_read_email_attachments</th>\n",
       "      <th>your_messages_send_gmail</th>\n",
       "      <th>your_messages_edit_sms_or_mms</th>\n",
       "      <th>your_messages_modify_gmail</th>\n",
       "      <th>your_messages_read_gmail</th>\n",
       "      <th>your_messages_read_gmail_attachment_previews</th>\n",
       "      <th>your_messages_read_sms_or_mms</th>\n",
       "      <th>your_messages_read_instant_messages</th>\n",
       "      <th>your_messages_receive_mms</th>\n",
       "      <th>your_messages_receive_sms</th>\n",
       "      <th>your_messages_receive_wap</th>\n",
       "      <th>your_messages_send_sms_received_broadcast</th>\n",
       "      <th>your_messages_send_wap_push_received_broadcast</th>\n",
       "      <th>your_messages_write_instant_messages</th>\n",
       "      <th>your_personal_information_add_or_modify_calendar_events_and_send_email_to_guests</th>\n",
       "      <th>your_personal_information_choose_widgets</th>\n",
       "      <th>your_personal_information_read_browsers_history_and_bookmarks</th>\n",
       "      <th>your_personal_information_read_calendar_events</th>\n",
       "      <th>your_personal_information_read_contact_data</th>\n",
       "      <th>your_personal_information_read_sensitive_log_data</th>\n",
       "      <th>your_personal_information_read_user_defined_dictionary</th>\n",
       "      <th>your_personal_information_retrieve_system_internal_state</th>\n",
       "      <th>your_personal_information_set_alarm_in_alarm_clock</th>\n",
       "      <th>your_personal_information_write_browsers_history_and_bookmarks</th>\n",
       "      <th>your_personal_information_write_contact_data</th>\n",
       "      <th>your_personal_information_write_to_user_defined_dictionary</th>\n",
       "      <th>class</th>\n",
       "    </tr>\n",
       "  </thead>\n",
       "  <tbody>\n",
       "    <tr>\n",
       "      <th>0</th>\n",
       "      <td>Canada Post Corporation</td>\n",
       "      <td>com.canadapost.android</td>\n",
       "      <td>Business</td>\n",
       "      <td>Canada Post Mobile App gives you access to som...</td>\n",
       "      <td>3.1</td>\n",
       "      <td>77</td>\n",
       "      <td>0.0</td>\n",
       "      <td>{com.adaffix.pub.ca.android, com.kevinquan.gas...</td>\n",
       "      <td>7.0</td>\n",
       "      <td>1</td>\n",
       "      <td>0</td>\n",
       "      <td>0</td>\n",
       "      <td>0</td>\n",
       "      <td>0</td>\n",
       "      <td>0</td>\n",
       "      <td>0</td>\n",
       "      <td>0</td>\n",
       "      <td>0</td>\n",
       "      <td>0</td>\n",
       "      <td>0</td>\n",
       "      <td>0</td>\n",
       "      <td>0</td>\n",
       "      <td>0</td>\n",
       "      <td>0</td>\n",
       "      <td>0</td>\n",
       "      <td>0</td>\n",
       "      <td>0</td>\n",
       "      <td>0</td>\n",
       "      <td>0</td>\n",
       "      <td>0</td>\n",
       "      <td>0</td>\n",
       "      <td>0</td>\n",
       "      <td>0</td>\n",
       "      <td>0</td>\n",
       "      <td>0</td>\n",
       "      <td>0</td>\n",
       "      <td>0</td>\n",
       "      <td>0</td>\n",
       "      <td>0</td>\n",
       "      <td>0</td>\n",
       "      <td>...</td>\n",
       "      <td>0</td>\n",
       "      <td>0</td>\n",
       "      <td>0</td>\n",
       "      <td>0</td>\n",
       "      <td>0</td>\n",
       "      <td>0</td>\n",
       "      <td>0</td>\n",
       "      <td>0</td>\n",
       "      <td>0</td>\n",
       "      <td>0</td>\n",
       "      <td>0</td>\n",
       "      <td>1</td>\n",
       "      <td>0</td>\n",
       "      <td>0</td>\n",
       "      <td>0</td>\n",
       "      <td>0</td>\n",
       "      <td>0</td>\n",
       "      <td>0</td>\n",
       "      <td>0</td>\n",
       "      <td>0</td>\n",
       "      <td>0</td>\n",
       "      <td>0</td>\n",
       "      <td>0</td>\n",
       "      <td>0</td>\n",
       "      <td>0</td>\n",
       "      <td>0</td>\n",
       "      <td>0</td>\n",
       "      <td>0</td>\n",
       "      <td>0</td>\n",
       "      <td>0</td>\n",
       "      <td>0</td>\n",
       "      <td>1</td>\n",
       "      <td>0</td>\n",
       "      <td>0</td>\n",
       "      <td>0</td>\n",
       "      <td>0</td>\n",
       "      <td>0</td>\n",
       "      <td>1</td>\n",
       "      <td>0</td>\n",
       "      <td>0</td>\n",
       "    </tr>\n",
       "    <tr>\n",
       "      <th>1</th>\n",
       "      <td>Word Farm</td>\n",
       "      <td>com.realcasualgames.words</td>\n",
       "      <td>Brain &amp; Puzzle</td>\n",
       "      <td>Speed and strategy combine in this exciting wo...</td>\n",
       "      <td>4.3</td>\n",
       "      <td>199</td>\n",
       "      <td>0.0</td>\n",
       "      <td>{air.com.zubawing.FastWordLite, com.joybits.do...</td>\n",
       "      <td>3.0</td>\n",
       "      <td>2</td>\n",
       "      <td>0</td>\n",
       "      <td>0</td>\n",
       "      <td>0</td>\n",
       "      <td>0</td>\n",
       "      <td>0</td>\n",
       "      <td>0</td>\n",
       "      <td>0</td>\n",
       "      <td>0</td>\n",
       "      <td>0</td>\n",
       "      <td>0</td>\n",
       "      <td>0</td>\n",
       "      <td>0</td>\n",
       "      <td>0</td>\n",
       "      <td>0</td>\n",
       "      <td>0</td>\n",
       "      <td>0</td>\n",
       "      <td>0</td>\n",
       "      <td>0</td>\n",
       "      <td>0</td>\n",
       "      <td>0</td>\n",
       "      <td>0</td>\n",
       "      <td>0</td>\n",
       "      <td>0</td>\n",
       "      <td>0</td>\n",
       "      <td>0</td>\n",
       "      <td>0</td>\n",
       "      <td>0</td>\n",
       "      <td>0</td>\n",
       "      <td>0</td>\n",
       "      <td>0</td>\n",
       "      <td>...</td>\n",
       "      <td>0</td>\n",
       "      <td>0</td>\n",
       "      <td>0</td>\n",
       "      <td>0</td>\n",
       "      <td>1</td>\n",
       "      <td>0</td>\n",
       "      <td>0</td>\n",
       "      <td>0</td>\n",
       "      <td>0</td>\n",
       "      <td>0</td>\n",
       "      <td>0</td>\n",
       "      <td>0</td>\n",
       "      <td>0</td>\n",
       "      <td>0</td>\n",
       "      <td>0</td>\n",
       "      <td>0</td>\n",
       "      <td>0</td>\n",
       "      <td>0</td>\n",
       "      <td>0</td>\n",
       "      <td>0</td>\n",
       "      <td>0</td>\n",
       "      <td>0</td>\n",
       "      <td>0</td>\n",
       "      <td>0</td>\n",
       "      <td>0</td>\n",
       "      <td>0</td>\n",
       "      <td>0</td>\n",
       "      <td>0</td>\n",
       "      <td>0</td>\n",
       "      <td>0</td>\n",
       "      <td>0</td>\n",
       "      <td>0</td>\n",
       "      <td>0</td>\n",
       "      <td>0</td>\n",
       "      <td>0</td>\n",
       "      <td>0</td>\n",
       "      <td>0</td>\n",
       "      <td>0</td>\n",
       "      <td>0</td>\n",
       "      <td>0</td>\n",
       "    </tr>\n",
       "    <tr>\n",
       "      <th>2</th>\n",
       "      <td>Fortunes of War FREE</td>\n",
       "      <td>fortunesofwar.free</td>\n",
       "      <td>Cards &amp; Casino</td>\n",
       "      <td>Fortunes of War is a fast-paced, easy to learn...</td>\n",
       "      <td>4.1</td>\n",
       "      <td>243</td>\n",
       "      <td>0.0</td>\n",
       "      <td>{com.kevinquan.condado, hu.monsta.pazaak, net....</td>\n",
       "      <td>1.0</td>\n",
       "      <td>1</td>\n",
       "      <td>0</td>\n",
       "      <td>0</td>\n",
       "      <td>0</td>\n",
       "      <td>0</td>\n",
       "      <td>0</td>\n",
       "      <td>0</td>\n",
       "      <td>0</td>\n",
       "      <td>0</td>\n",
       "      <td>0</td>\n",
       "      <td>0</td>\n",
       "      <td>0</td>\n",
       "      <td>0</td>\n",
       "      <td>0</td>\n",
       "      <td>0</td>\n",
       "      <td>0</td>\n",
       "      <td>0</td>\n",
       "      <td>0</td>\n",
       "      <td>0</td>\n",
       "      <td>0</td>\n",
       "      <td>0</td>\n",
       "      <td>0</td>\n",
       "      <td>0</td>\n",
       "      <td>0</td>\n",
       "      <td>0</td>\n",
       "      <td>0</td>\n",
       "      <td>0</td>\n",
       "      <td>0</td>\n",
       "      <td>0</td>\n",
       "      <td>0</td>\n",
       "      <td>0</td>\n",
       "      <td>...</td>\n",
       "      <td>0</td>\n",
       "      <td>0</td>\n",
       "      <td>0</td>\n",
       "      <td>0</td>\n",
       "      <td>0</td>\n",
       "      <td>0</td>\n",
       "      <td>0</td>\n",
       "      <td>0</td>\n",
       "      <td>0</td>\n",
       "      <td>0</td>\n",
       "      <td>0</td>\n",
       "      <td>0</td>\n",
       "      <td>0</td>\n",
       "      <td>0</td>\n",
       "      <td>0</td>\n",
       "      <td>0</td>\n",
       "      <td>0</td>\n",
       "      <td>0</td>\n",
       "      <td>0</td>\n",
       "      <td>0</td>\n",
       "      <td>0</td>\n",
       "      <td>0</td>\n",
       "      <td>0</td>\n",
       "      <td>0</td>\n",
       "      <td>0</td>\n",
       "      <td>0</td>\n",
       "      <td>0</td>\n",
       "      <td>0</td>\n",
       "      <td>0</td>\n",
       "      <td>0</td>\n",
       "      <td>0</td>\n",
       "      <td>0</td>\n",
       "      <td>0</td>\n",
       "      <td>0</td>\n",
       "      <td>0</td>\n",
       "      <td>0</td>\n",
       "      <td>0</td>\n",
       "      <td>0</td>\n",
       "      <td>0</td>\n",
       "      <td>0</td>\n",
       "    </tr>\n",
       "  </tbody>\n",
       "</table>\n",
       "<p>3 rows × 184 columns</p>\n",
       "</div>"
      ],
      "text/plain": [
       "                       app  ... class\n",
       "0  Canada Post Corporation  ...     0\n",
       "1                Word Farm  ...     0\n",
       "2     Fortunes of War FREE  ...     0\n",
       "\n",
       "[3 rows x 184 columns]"
      ]
     },
     "execution_count": 13,
     "metadata": {},
     "output_type": "execute_result"
    }
   ],
   "source": [
    "# Importing data:\n",
    "df = pd.read_csv('../Datasets/Android_Permission.csv')\n",
    "\n",
    "# Columns names:\n",
    "df.columns = [correct_col_name(c) for c in df.columns]\n",
    "\n",
    "# Auxiliary variables:\n",
    "drop_vars = ['app', 'package', 'class']\n",
    "\n",
    "# Removing duplicates:\n",
    "df.drop_duplicates(inplace=True)\n",
    "\n",
    "print(f'Shape of data: {df.shape}.')\n",
    "df.head(3)"
   ]
  },
  {
   "cell_type": "markdown",
   "metadata": {
    "id": "egGnne0ZvC3J"
   },
   "source": [
    "#### Features names"
   ]
  },
  {
   "cell_type": "code",
   "execution_count": 14,
   "metadata": {
    "colab": {
     "base_uri": "https://localhost:8080/"
    },
    "executionInfo": {
     "elapsed": 126,
     "status": "ok",
     "timestamp": 1631019731193,
     "user": {
      "displayName": "Matheus Rosso",
      "photoUrl": "",
      "userId": "07497572953789637511"
     },
     "user_tz": 180
    },
    "id": "PcS4TIoXvEWb",
    "outputId": "764ae398-8472-459e-ae5a-0ba05d1de205"
   },
   "outputs": [
    {
     "name": "stdout",
     "output_type": "stream",
     "text": [
      "['category', 'description', 'rating', 'number_of_ratings', 'price', 'related_apps', 'dangerous_permissions_count', 'safe_permissions_count', 'access_drm_content_', 'access_email_provider_data'] \n",
      "\n",
      "['description', 'rating', 'number_of_ratings', 'price', 'related_apps', 'dangerous_permissions_count', 'safe_permissions_count', 'access_drm_content_', 'access_email_provider_data', 'access_all_system_downloads'] \n",
      "\n",
      "['rating', 'number_of_ratings', 'price', 'related_apps', 'dangerous_permissions_count', 'safe_permissions_count', 'access_drm_content_', 'access_email_provider_data', 'access_all_system_downloads', 'access_download_manager_'] \n",
      "\n",
      "['number_of_ratings', 'price', 'related_apps', 'dangerous_permissions_count', 'safe_permissions_count', 'access_drm_content_', 'access_email_provider_data', 'access_all_system_downloads', 'access_download_manager_', 'advanced_download_manager_functions_'] \n",
      "\n",
      "['price', 'related_apps', 'dangerous_permissions_count', 'safe_permissions_count', 'access_drm_content_', 'access_email_provider_data', 'access_all_system_downloads', 'access_download_manager_', 'advanced_download_manager_functions_', 'audio_file_access'] \n",
      "\n",
      "['related_apps', 'dangerous_permissions_count', 'safe_permissions_count', 'access_drm_content_', 'access_email_provider_data', 'access_all_system_downloads', 'access_download_manager_', 'advanced_download_manager_functions_', 'audio_file_access', 'install_drm_content_'] \n",
      "\n",
      "['dangerous_permissions_count', 'safe_permissions_count', 'access_drm_content_', 'access_email_provider_data', 'access_all_system_downloads', 'access_download_manager_', 'advanced_download_manager_functions_', 'audio_file_access', 'install_drm_content_', 'modify_google_service_configuration'] \n",
      "\n",
      "['safe_permissions_count', 'access_drm_content_', 'access_email_provider_data', 'access_all_system_downloads', 'access_download_manager_', 'advanced_download_manager_functions_', 'audio_file_access', 'install_drm_content_', 'modify_google_service_configuration', 'modify_google_settings'] \n",
      "\n",
      "['access_drm_content_', 'access_email_provider_data', 'access_all_system_downloads', 'access_download_manager_', 'advanced_download_manager_functions_', 'audio_file_access', 'install_drm_content_', 'modify_google_service_configuration', 'modify_google_settings', 'move_application_resources'] \n",
      "\n",
      "['access_email_provider_data', 'access_all_system_downloads', 'access_download_manager_', 'advanced_download_manager_functions_', 'audio_file_access', 'install_drm_content_', 'modify_google_service_configuration', 'modify_google_settings', 'move_application_resources', 'read_google_settings'] \n",
      "\n",
      "['access_all_system_downloads', 'access_download_manager_', 'advanced_download_manager_functions_', 'audio_file_access', 'install_drm_content_', 'modify_google_service_configuration', 'modify_google_settings', 'move_application_resources', 'read_google_settings', 'send_download_notifications_'] \n",
      "\n",
      "['access_download_manager_', 'advanced_download_manager_functions_', 'audio_file_access', 'install_drm_content_', 'modify_google_service_configuration', 'modify_google_settings', 'move_application_resources', 'read_google_settings', 'send_download_notifications_', 'voice_search_shortcuts'] \n",
      "\n",
      "['advanced_download_manager_functions_', 'audio_file_access', 'install_drm_content_', 'modify_google_service_configuration', 'modify_google_settings', 'move_application_resources', 'read_google_settings', 'send_download_notifications_', 'voice_search_shortcuts', 'access_surfaceflinger'] \n",
      "\n",
      "['audio_file_access', 'install_drm_content_', 'modify_google_service_configuration', 'modify_google_settings', 'move_application_resources', 'read_google_settings', 'send_download_notifications_', 'voice_search_shortcuts', 'access_surfaceflinger', 'access_checkin_properties'] \n",
      "\n",
      "['install_drm_content_', 'modify_google_service_configuration', 'modify_google_settings', 'move_application_resources', 'read_google_settings', 'send_download_notifications_', 'voice_search_shortcuts', 'access_surfaceflinger', 'access_checkin_properties', 'access_the_cache_filesystem'] \n",
      "\n",
      "['modify_google_service_configuration', 'modify_google_settings', 'move_application_resources', 'read_google_settings', 'send_download_notifications_', 'voice_search_shortcuts', 'access_surfaceflinger', 'access_checkin_properties', 'access_the_cache_filesystem', 'access_to_passwords_for_google_accounts'] \n",
      "\n",
      "['modify_google_settings', 'move_application_resources', 'read_google_settings', 'send_download_notifications_', 'voice_search_shortcuts', 'access_surfaceflinger', 'access_checkin_properties', 'access_the_cache_filesystem', 'access_to_passwords_for_google_accounts', 'act_as_an_account_authenticator'] \n",
      "\n",
      "['move_application_resources', 'read_google_settings', 'send_download_notifications_', 'voice_search_shortcuts', 'access_surfaceflinger', 'access_checkin_properties', 'access_the_cache_filesystem', 'access_to_passwords_for_google_accounts', 'act_as_an_account_authenticator', 'bind_to_a_wallpaper'] \n",
      "\n",
      "['read_google_settings', 'send_download_notifications_', 'voice_search_shortcuts', 'access_surfaceflinger', 'access_checkin_properties', 'access_the_cache_filesystem', 'access_to_passwords_for_google_accounts', 'act_as_an_account_authenticator', 'bind_to_a_wallpaper', 'bind_to_an_input_method'] \n",
      "\n",
      "['send_download_notifications_', 'voice_search_shortcuts', 'access_surfaceflinger', 'access_checkin_properties', 'access_the_cache_filesystem', 'access_to_passwords_for_google_accounts', 'act_as_an_account_authenticator', 'bind_to_a_wallpaper', 'bind_to_an_input_method', 'change_screen_orientation'] \n",
      "\n",
      "['voice_search_shortcuts', 'access_surfaceflinger', 'access_checkin_properties', 'access_the_cache_filesystem', 'access_to_passwords_for_google_accounts', 'act_as_an_account_authenticator', 'bind_to_a_wallpaper', 'bind_to_an_input_method', 'change_screen_orientation', 'coarse'] \n",
      "\n",
      "['access_surfaceflinger', 'access_checkin_properties', 'access_the_cache_filesystem', 'access_to_passwords_for_google_accounts', 'act_as_an_account_authenticator', 'bind_to_a_wallpaper', 'bind_to_an_input_method', 'change_screen_orientation', 'coarse', 'control_location_update_notifications'] \n",
      "\n",
      "['access_checkin_properties', 'access_the_cache_filesystem', 'access_to_passwords_for_google_accounts', 'act_as_an_account_authenticator', 'bind_to_a_wallpaper', 'bind_to_an_input_method', 'change_screen_orientation', 'coarse', 'control_location_update_notifications', 'control_system_backup_and_restore'] \n",
      "\n",
      "['access_the_cache_filesystem', 'access_to_passwords_for_google_accounts', 'act_as_an_account_authenticator', 'bind_to_a_wallpaper', 'bind_to_an_input_method', 'change_screen_orientation', 'coarse', 'control_location_update_notifications', 'control_system_backup_and_restore', 'delete_applications'] \n",
      "\n",
      "['access_to_passwords_for_google_accounts', 'act_as_an_account_authenticator', 'bind_to_a_wallpaper', 'bind_to_an_input_method', 'change_screen_orientation', 'coarse', 'control_location_update_notifications', 'control_system_backup_and_restore', 'delete_applications', 'delete_other_applications_caches'] \n",
      "\n",
      "['act_as_an_account_authenticator', 'bind_to_a_wallpaper', 'bind_to_an_input_method', 'change_screen_orientation', 'coarse', 'control_location_update_notifications', 'control_system_backup_and_restore', 'delete_applications', 'delete_other_applications_caches', 'delete_other_applications_data'] \n",
      "\n",
      "['bind_to_a_wallpaper', 'bind_to_an_input_method', 'change_screen_orientation', 'coarse', 'control_location_update_notifications', 'control_system_backup_and_restore', 'delete_applications', 'delete_other_applications_caches', 'delete_other_applications_data', 'directly_call_any_phone_numbers'] \n",
      "\n",
      "['bind_to_an_input_method', 'change_screen_orientation', 'coarse', 'control_location_update_notifications', 'control_system_backup_and_restore', 'delete_applications', 'delete_other_applications_caches', 'delete_other_applications_data', 'directly_call_any_phone_numbers', 'directly_install_applications'] \n",
      "\n",
      "['change_screen_orientation', 'coarse', 'control_location_update_notifications', 'control_system_backup_and_restore', 'delete_applications', 'delete_other_applications_caches', 'delete_other_applications_data', 'directly_call_any_phone_numbers', 'directly_install_applications', 'disable_or_modify_status_bar'] \n",
      "\n",
      "['coarse', 'control_location_update_notifications', 'control_system_backup_and_restore', 'delete_applications', 'delete_other_applications_caches', 'delete_other_applications_data', 'directly_call_any_phone_numbers', 'directly_install_applications', 'disable_or_modify_status_bar', 'discover_known_accounts'] \n",
      "\n",
      "['control_location_update_notifications', 'control_system_backup_and_restore', 'delete_applications', 'delete_other_applications_caches', 'delete_other_applications_data', 'directly_call_any_phone_numbers', 'directly_install_applications', 'disable_or_modify_status_bar', 'discover_known_accounts', 'display_unauthorized_windows'] \n",
      "\n",
      "['control_system_backup_and_restore', 'delete_applications', 'delete_other_applications_caches', 'delete_other_applications_data', 'directly_call_any_phone_numbers', 'directly_install_applications', 'disable_or_modify_status_bar', 'discover_known_accounts', 'display_unauthorized_windows', 'enable_or_disable_application_components'] \n",
      "\n",
      "['delete_applications', 'delete_other_applications_caches', 'delete_other_applications_data', 'directly_call_any_phone_numbers', 'directly_install_applications', 'disable_or_modify_status_bar', 'discover_known_accounts', 'display_unauthorized_windows', 'enable_or_disable_application_components', 'force_application_to_close'] \n",
      "\n",
      "['delete_other_applications_caches', 'delete_other_applications_data', 'directly_call_any_phone_numbers', 'directly_install_applications', 'disable_or_modify_status_bar', 'discover_known_accounts', 'display_unauthorized_windows', 'enable_or_disable_application_components', 'force_application_to_close', 'force_device_reboot'] \n",
      "\n",
      "['delete_other_applications_data', 'directly_call_any_phone_numbers', 'directly_install_applications', 'disable_or_modify_status_bar', 'discover_known_accounts', 'display_unauthorized_windows', 'enable_or_disable_application_components', 'force_application_to_close', 'force_device_reboot', 'full_internet_access'] \n",
      "\n",
      "['directly_call_any_phone_numbers', 'directly_install_applications', 'disable_or_modify_status_bar', 'discover_known_accounts', 'display_unauthorized_windows', 'enable_or_disable_application_components', 'force_application_to_close', 'force_device_reboot', 'full_internet_access', 'interact_with_a_device_admin'] \n",
      "\n",
      "['directly_install_applications', 'disable_or_modify_status_bar', 'discover_known_accounts', 'display_unauthorized_windows', 'enable_or_disable_application_components', 'force_application_to_close', 'force_device_reboot', 'full_internet_access', 'interact_with_a_device_admin', 'manage_application_tokens'] \n",
      "\n",
      "['disable_or_modify_status_bar', 'discover_known_accounts', 'display_unauthorized_windows', 'enable_or_disable_application_components', 'force_application_to_close', 'force_device_reboot', 'full_internet_access', 'interact_with_a_device_admin', 'manage_application_tokens', 'mock_location_sources_for_testing'] \n",
      "\n",
      "['discover_known_accounts', 'display_unauthorized_windows', 'enable_or_disable_application_components', 'force_application_to_close', 'force_device_reboot', 'full_internet_access', 'interact_with_a_device_admin', 'manage_application_tokens', 'mock_location_sources_for_testing', 'modify_battery_statistics'] \n",
      "\n",
      "['display_unauthorized_windows', 'enable_or_disable_application_components', 'force_application_to_close', 'force_device_reboot', 'full_internet_access', 'interact_with_a_device_admin', 'manage_application_tokens', 'mock_location_sources_for_testing', 'modify_battery_statistics', 'modify_secure_system_settings'] \n",
      "\n",
      "['enable_or_disable_application_components', 'force_application_to_close', 'force_device_reboot', 'full_internet_access', 'interact_with_a_device_admin', 'manage_application_tokens', 'mock_location_sources_for_testing', 'modify_battery_statistics', 'modify_secure_system_settings', 'modify_the_google_services_map'] \n",
      "\n",
      "['force_application_to_close', 'force_device_reboot', 'full_internet_access', 'interact_with_a_device_admin', 'manage_application_tokens', 'mock_location_sources_for_testing', 'modify_battery_statistics', 'modify_secure_system_settings', 'modify_the_google_services_map', 'modify_delete_usb_storage_contents_modify_delete_sd_card_contents'] \n",
      "\n",
      "['force_device_reboot', 'full_internet_access', 'interact_with_a_device_admin', 'manage_application_tokens', 'mock_location_sources_for_testing', 'modify_battery_statistics', 'modify_secure_system_settings', 'modify_the_google_services_map', 'modify_delete_usb_storage_contents_modify_delete_sd_card_contents', 'monitor_and_control_all_application_launching'] \n",
      "\n",
      "['full_internet_access', 'interact_with_a_device_admin', 'manage_application_tokens', 'mock_location_sources_for_testing', 'modify_battery_statistics', 'modify_secure_system_settings', 'modify_the_google_services_map', 'modify_delete_usb_storage_contents_modify_delete_sd_card_contents', 'monitor_and_control_all_application_launching', 'partial_shutdown'] \n",
      "\n",
      "['interact_with_a_device_admin', 'manage_application_tokens', 'mock_location_sources_for_testing', 'modify_battery_statistics', 'modify_secure_system_settings', 'modify_the_google_services_map', 'modify_delete_usb_storage_contents_modify_delete_sd_card_contents', 'monitor_and_control_all_application_launching', 'partial_shutdown', 'permanently_disable_device'] \n",
      "\n",
      "['manage_application_tokens', 'mock_location_sources_for_testing', 'modify_battery_statistics', 'modify_secure_system_settings', 'modify_the_google_services_map', 'modify_delete_usb_storage_contents_modify_delete_sd_card_contents', 'monitor_and_control_all_application_launching', 'partial_shutdown', 'permanently_disable_device', 'permission_to_install_a_location_provider'] \n",
      "\n",
      "['mock_location_sources_for_testing', 'modify_battery_statistics', 'modify_secure_system_settings', 'modify_the_google_services_map', 'modify_delete_usb_storage_contents_modify_delete_sd_card_contents', 'monitor_and_control_all_application_launching', 'partial_shutdown', 'permanently_disable_device', 'permission_to_install_a_location_provider', 'power_device_on_or_off'] \n",
      "\n",
      "['modify_battery_statistics', 'modify_secure_system_settings', 'modify_the_google_services_map', 'modify_delete_usb_storage_contents_modify_delete_sd_card_contents', 'monitor_and_control_all_application_launching', 'partial_shutdown', 'permanently_disable_device', 'permission_to_install_a_location_provider', 'power_device_on_or_off', 'press_keys_and_control_buttons'] \n",
      "\n",
      "['modify_secure_system_settings', 'modify_the_google_services_map', 'modify_delete_usb_storage_contents_modify_delete_sd_card_contents', 'monitor_and_control_all_application_launching', 'partial_shutdown', 'permanently_disable_device', 'permission_to_install_a_location_provider', 'power_device_on_or_off', 'press_keys_and_control_buttons', 'prevent_app_switches'] \n",
      "\n",
      "['modify_the_google_services_map', 'modify_delete_usb_storage_contents_modify_delete_sd_card_contents', 'monitor_and_control_all_application_launching', 'partial_shutdown', 'permanently_disable_device', 'permission_to_install_a_location_provider', 'power_device_on_or_off', 'press_keys_and_control_buttons', 'prevent_app_switches', 'read_frame_buffer'] \n",
      "\n",
      "['modify_delete_usb_storage_contents_modify_delete_sd_card_contents', 'monitor_and_control_all_application_launching', 'partial_shutdown', 'permanently_disable_device', 'permission_to_install_a_location_provider', 'power_device_on_or_off', 'press_keys_and_control_buttons', 'prevent_app_switches', 'read_frame_buffer', 'read_instant_messages'] \n",
      "\n",
      "['monitor_and_control_all_application_launching', 'partial_shutdown', 'permanently_disable_device', 'permission_to_install_a_location_provider', 'power_device_on_or_off', 'press_keys_and_control_buttons', 'prevent_app_switches', 'read_frame_buffer', 'read_instant_messages', 'read_phone_state_and_identity'] \n",
      "\n",
      "['partial_shutdown', 'permanently_disable_device', 'permission_to_install_a_location_provider', 'power_device_on_or_off', 'press_keys_and_control_buttons', 'prevent_app_switches', 'read_frame_buffer', 'read_instant_messages', 'read_phone_state_and_identity', 'record_what_you_type_and_actions_you_take'] \n",
      "\n",
      "['permanently_disable_device', 'permission_to_install_a_location_provider', 'power_device_on_or_off', 'press_keys_and_control_buttons', 'prevent_app_switches', 'read_frame_buffer', 'read_instant_messages', 'read_phone_state_and_identity', 'record_what_you_type_and_actions_you_take', 'reset_system_to_factory_defaults'] \n",
      "\n",
      "['permission_to_install_a_location_provider', 'power_device_on_or_off', 'press_keys_and_control_buttons', 'prevent_app_switches', 'read_frame_buffer', 'read_instant_messages', 'read_phone_state_and_identity', 'record_what_you_type_and_actions_you_take', 'reset_system_to_factory_defaults', 'run_in_factory_test_mode'] \n",
      "\n",
      "['power_device_on_or_off', 'press_keys_and_control_buttons', 'prevent_app_switches', 'read_frame_buffer', 'read_instant_messages', 'read_phone_state_and_identity', 'record_what_you_type_and_actions_you_take', 'reset_system_to_factory_defaults', 'run_in_factory_test_mode', 'set_time'] \n",
      "\n",
      "['press_keys_and_control_buttons', 'prevent_app_switches', 'read_frame_buffer', 'read_instant_messages', 'read_phone_state_and_identity', 'record_what_you_type_and_actions_you_take', 'reset_system_to_factory_defaults', 'run_in_factory_test_mode', 'set_time', 'set_wallpaper_size_hints'] \n",
      "\n",
      "['prevent_app_switches', 'read_frame_buffer', 'read_instant_messages', 'read_phone_state_and_identity', 'record_what_you_type_and_actions_you_take', 'reset_system_to_factory_defaults', 'run_in_factory_test_mode', 'set_time', 'set_wallpaper_size_hints', 'start_im_service'] \n",
      "\n",
      "['read_frame_buffer', 'read_instant_messages', 'read_phone_state_and_identity', 'record_what_you_type_and_actions_you_take', 'reset_system_to_factory_defaults', 'run_in_factory_test_mode', 'set_time', 'set_wallpaper_size_hints', 'start_im_service', 'update_component_usage_statistics'] \n",
      "\n",
      "['read_instant_messages', 'read_phone_state_and_identity', 'record_what_you_type_and_actions_you_take', 'reset_system_to_factory_defaults', 'run_in_factory_test_mode', 'set_time', 'set_wallpaper_size_hints', 'start_im_service', 'update_component_usage_statistics', 'write_contact_data'] \n",
      "\n",
      "['read_phone_state_and_identity', 'record_what_you_type_and_actions_you_take', 'reset_system_to_factory_defaults', 'run_in_factory_test_mode', 'set_time', 'set_wallpaper_size_hints', 'start_im_service', 'update_component_usage_statistics', 'write_contact_data', 'write_instant_messages'] \n",
      "\n",
      "['record_what_you_type_and_actions_you_take', 'reset_system_to_factory_defaults', 'run_in_factory_test_mode', 'set_time', 'set_wallpaper_size_hints', 'start_im_service', 'update_component_usage_statistics', 'write_contact_data', 'write_instant_messages', 'development_tools_enable_application_debugging'] \n",
      "\n",
      "['reset_system_to_factory_defaults', 'run_in_factory_test_mode', 'set_time', 'set_wallpaper_size_hints', 'start_im_service', 'update_component_usage_statistics', 'write_contact_data', 'write_instant_messages', 'development_tools_enable_application_debugging', 'development_tools_limit_number_of_running_processes'] \n",
      "\n",
      "['run_in_factory_test_mode', 'set_time', 'set_wallpaper_size_hints', 'start_im_service', 'update_component_usage_statistics', 'write_contact_data', 'write_instant_messages', 'development_tools_enable_application_debugging', 'development_tools_limit_number_of_running_processes', 'development_tools_make_all_background_applications_close'] \n",
      "\n",
      "['set_time', 'set_wallpaper_size_hints', 'start_im_service', 'update_component_usage_statistics', 'write_contact_data', 'write_instant_messages', 'development_tools_enable_application_debugging', 'development_tools_limit_number_of_running_processes', 'development_tools_make_all_background_applications_close', 'development_tools_send_linux_signals_to_applications'] \n",
      "\n",
      "['set_wallpaper_size_hints', 'start_im_service', 'update_component_usage_statistics', 'write_contact_data', 'write_instant_messages', 'development_tools_enable_application_debugging', 'development_tools_limit_number_of_running_processes', 'development_tools_make_all_background_applications_close', 'development_tools_send_linux_signals_to_applications', 'hardware_controls_change_your_audio_settings'] \n",
      "\n",
      "['start_im_service', 'update_component_usage_statistics', 'write_contact_data', 'write_instant_messages', 'development_tools_enable_application_debugging', 'development_tools_limit_number_of_running_processes', 'development_tools_make_all_background_applications_close', 'development_tools_send_linux_signals_to_applications', 'hardware_controls_change_your_audio_settings', 'hardware_controls_control_flashlight'] \n",
      "\n",
      "['update_component_usage_statistics', 'write_contact_data', 'write_instant_messages', 'development_tools_enable_application_debugging', 'development_tools_limit_number_of_running_processes', 'development_tools_make_all_background_applications_close', 'development_tools_send_linux_signals_to_applications', 'hardware_controls_change_your_audio_settings', 'hardware_controls_control_flashlight', 'hardware_controls_control_vibrator'] \n",
      "\n",
      "['write_contact_data', 'write_instant_messages', 'development_tools_enable_application_debugging', 'development_tools_limit_number_of_running_processes', 'development_tools_make_all_background_applications_close', 'development_tools_send_linux_signals_to_applications', 'hardware_controls_change_your_audio_settings', 'hardware_controls_control_flashlight', 'hardware_controls_control_vibrator', 'hardware_controls_record_audio'] \n",
      "\n",
      "['write_instant_messages', 'development_tools_enable_application_debugging', 'development_tools_limit_number_of_running_processes', 'development_tools_make_all_background_applications_close', 'development_tools_send_linux_signals_to_applications', 'hardware_controls_change_your_audio_settings', 'hardware_controls_control_flashlight', 'hardware_controls_control_vibrator', 'hardware_controls_record_audio', 'hardware_controls_take_pictures_and_videos'] \n",
      "\n",
      "['development_tools_enable_application_debugging', 'development_tools_limit_number_of_running_processes', 'development_tools_make_all_background_applications_close', 'development_tools_send_linux_signals_to_applications', 'hardware_controls_change_your_audio_settings', 'hardware_controls_control_flashlight', 'hardware_controls_control_vibrator', 'hardware_controls_record_audio', 'hardware_controls_take_pictures_and_videos', 'hardware_controls_test_hardware'] \n",
      "\n",
      "['development_tools_limit_number_of_running_processes', 'development_tools_make_all_background_applications_close', 'development_tools_send_linux_signals_to_applications', 'hardware_controls_change_your_audio_settings', 'hardware_controls_control_flashlight', 'hardware_controls_control_vibrator', 'hardware_controls_record_audio', 'hardware_controls_take_pictures_and_videos', 'hardware_controls_test_hardware', 'network_communication_broadcast_data_messages_to_applications_'] \n",
      "\n",
      "['development_tools_make_all_background_applications_close', 'development_tools_send_linux_signals_to_applications', 'hardware_controls_change_your_audio_settings', 'hardware_controls_control_flashlight', 'hardware_controls_control_vibrator', 'hardware_controls_record_audio', 'hardware_controls_take_pictures_and_videos', 'hardware_controls_test_hardware', 'network_communication_broadcast_data_messages_to_applications_', 'network_communication_control_near_field_communication'] \n",
      "\n",
      "['development_tools_send_linux_signals_to_applications', 'hardware_controls_change_your_audio_settings', 'hardware_controls_control_flashlight', 'hardware_controls_control_vibrator', 'hardware_controls_record_audio', 'hardware_controls_take_pictures_and_videos', 'hardware_controls_test_hardware', 'network_communication_broadcast_data_messages_to_applications_', 'network_communication_control_near_field_communication', 'network_communication_create_bluetooth_connections'] \n",
      "\n",
      "['hardware_controls_change_your_audio_settings', 'hardware_controls_control_flashlight', 'hardware_controls_control_vibrator', 'hardware_controls_record_audio', 'hardware_controls_take_pictures_and_videos', 'hardware_controls_test_hardware', 'network_communication_broadcast_data_messages_to_applications_', 'network_communication_control_near_field_communication', 'network_communication_create_bluetooth_connections', 'network_communication_download_files_without_notification'] \n",
      "\n",
      "['hardware_controls_control_flashlight', 'hardware_controls_control_vibrator', 'hardware_controls_record_audio', 'hardware_controls_take_pictures_and_videos', 'hardware_controls_test_hardware', 'network_communication_broadcast_data_messages_to_applications_', 'network_communication_control_near_field_communication', 'network_communication_create_bluetooth_connections', 'network_communication_download_files_without_notification', 'network_communication_full_internet_access'] \n",
      "\n",
      "['hardware_controls_control_vibrator', 'hardware_controls_record_audio', 'hardware_controls_take_pictures_and_videos', 'hardware_controls_test_hardware', 'network_communication_broadcast_data_messages_to_applications_', 'network_communication_control_near_field_communication', 'network_communication_create_bluetooth_connections', 'network_communication_download_files_without_notification', 'network_communication_full_internet_access', 'network_communication_make_receive_internet_calls'] \n",
      "\n",
      "['hardware_controls_record_audio', 'hardware_controls_take_pictures_and_videos', 'hardware_controls_test_hardware', 'network_communication_broadcast_data_messages_to_applications_', 'network_communication_control_near_field_communication', 'network_communication_create_bluetooth_connections', 'network_communication_download_files_without_notification', 'network_communication_full_internet_access', 'network_communication_make_receive_internet_calls', 'network_communication_receive_data_from_internet'] \n",
      "\n",
      "['hardware_controls_take_pictures_and_videos', 'hardware_controls_test_hardware', 'network_communication_broadcast_data_messages_to_applications_', 'network_communication_control_near_field_communication', 'network_communication_create_bluetooth_connections', 'network_communication_download_files_without_notification', 'network_communication_full_internet_access', 'network_communication_make_receive_internet_calls', 'network_communication_receive_data_from_internet', 'network_communication_view_wi_fi_state'] \n",
      "\n",
      "['hardware_controls_test_hardware', 'network_communication_broadcast_data_messages_to_applications_', 'network_communication_control_near_field_communication', 'network_communication_create_bluetooth_connections', 'network_communication_download_files_without_notification', 'network_communication_full_internet_access', 'network_communication_make_receive_internet_calls', 'network_communication_receive_data_from_internet', 'network_communication_view_wi_fi_state', 'network_communication_view_network_state'] \n",
      "\n",
      "['network_communication_broadcast_data_messages_to_applications_', 'network_communication_control_near_field_communication', 'network_communication_create_bluetooth_connections', 'network_communication_download_files_without_notification', 'network_communication_full_internet_access', 'network_communication_make_receive_internet_calls', 'network_communication_receive_data_from_internet', 'network_communication_view_wi_fi_state', 'network_communication_view_network_state', 'phone_calls_intercept_outgoing_calls'] \n",
      "\n",
      "['network_communication_control_near_field_communication', 'network_communication_create_bluetooth_connections', 'network_communication_download_files_without_notification', 'network_communication_full_internet_access', 'network_communication_make_receive_internet_calls', 'network_communication_receive_data_from_internet', 'network_communication_view_wi_fi_state', 'network_communication_view_network_state', 'phone_calls_intercept_outgoing_calls', 'phone_calls_modify_phone_state'] \n",
      "\n",
      "['network_communication_create_bluetooth_connections', 'network_communication_download_files_without_notification', 'network_communication_full_internet_access', 'network_communication_make_receive_internet_calls', 'network_communication_receive_data_from_internet', 'network_communication_view_wi_fi_state', 'network_communication_view_network_state', 'phone_calls_intercept_outgoing_calls', 'phone_calls_modify_phone_state', 'phone_calls_read_phone_state_and_identity'] \n",
      "\n",
      "['network_communication_download_files_without_notification', 'network_communication_full_internet_access', 'network_communication_make_receive_internet_calls', 'network_communication_receive_data_from_internet', 'network_communication_view_wi_fi_state', 'network_communication_view_network_state', 'phone_calls_intercept_outgoing_calls', 'phone_calls_modify_phone_state', 'phone_calls_read_phone_state_and_identity', 'services_that_cost_you_money_directly_call_phone_numbers'] \n",
      "\n",
      "['network_communication_full_internet_access', 'network_communication_make_receive_internet_calls', 'network_communication_receive_data_from_internet', 'network_communication_view_wi_fi_state', 'network_communication_view_network_state', 'phone_calls_intercept_outgoing_calls', 'phone_calls_modify_phone_state', 'phone_calls_read_phone_state_and_identity', 'services_that_cost_you_money_directly_call_phone_numbers', 'services_that_cost_you_money_send_sms_messages'] \n",
      "\n",
      "['network_communication_make_receive_internet_calls', 'network_communication_receive_data_from_internet', 'network_communication_view_wi_fi_state', 'network_communication_view_network_state', 'phone_calls_intercept_outgoing_calls', 'phone_calls_modify_phone_state', 'phone_calls_read_phone_state_and_identity', 'services_that_cost_you_money_directly_call_phone_numbers', 'services_that_cost_you_money_send_sms_messages', 'storage_modify_delete_usb_storage_contents_modify_delete_sd_card_contents'] \n",
      "\n",
      "['network_communication_receive_data_from_internet', 'network_communication_view_wi_fi_state', 'network_communication_view_network_state', 'phone_calls_intercept_outgoing_calls', 'phone_calls_modify_phone_state', 'phone_calls_read_phone_state_and_identity', 'services_that_cost_you_money_directly_call_phone_numbers', 'services_that_cost_you_money_send_sms_messages', 'storage_modify_delete_usb_storage_contents_modify_delete_sd_card_contents', 'system_tools_allow_wi_fi_multicast_reception'] \n",
      "\n",
      "['network_communication_view_wi_fi_state', 'network_communication_view_network_state', 'phone_calls_intercept_outgoing_calls', 'phone_calls_modify_phone_state', 'phone_calls_read_phone_state_and_identity', 'services_that_cost_you_money_directly_call_phone_numbers', 'services_that_cost_you_money_send_sms_messages', 'storage_modify_delete_usb_storage_contents_modify_delete_sd_card_contents', 'system_tools_allow_wi_fi_multicast_reception', 'system_tools_automatically_start_at_boot'] \n",
      "\n",
      "['network_communication_view_network_state', 'phone_calls_intercept_outgoing_calls', 'phone_calls_modify_phone_state', 'phone_calls_read_phone_state_and_identity', 'services_that_cost_you_money_directly_call_phone_numbers', 'services_that_cost_you_money_send_sms_messages', 'storage_modify_delete_usb_storage_contents_modify_delete_sd_card_contents', 'system_tools_allow_wi_fi_multicast_reception', 'system_tools_automatically_start_at_boot', 'system_tools_bluetooth_administration'] \n",
      "\n",
      "['phone_calls_intercept_outgoing_calls', 'phone_calls_modify_phone_state', 'phone_calls_read_phone_state_and_identity', 'services_that_cost_you_money_directly_call_phone_numbers', 'services_that_cost_you_money_send_sms_messages', 'storage_modify_delete_usb_storage_contents_modify_delete_sd_card_contents', 'system_tools_allow_wi_fi_multicast_reception', 'system_tools_automatically_start_at_boot', 'system_tools_bluetooth_administration', 'system_tools_change_wi_fi_state'] \n",
      "\n",
      "['phone_calls_modify_phone_state', 'phone_calls_read_phone_state_and_identity', 'services_that_cost_you_money_directly_call_phone_numbers', 'services_that_cost_you_money_send_sms_messages', 'storage_modify_delete_usb_storage_contents_modify_delete_sd_card_contents', 'system_tools_allow_wi_fi_multicast_reception', 'system_tools_automatically_start_at_boot', 'system_tools_bluetooth_administration', 'system_tools_change_wi_fi_state', 'system_tools_change_background_data_usage_setting'] \n",
      "\n",
      "['phone_calls_read_phone_state_and_identity', 'services_that_cost_you_money_directly_call_phone_numbers', 'services_that_cost_you_money_send_sms_messages', 'storage_modify_delete_usb_storage_contents_modify_delete_sd_card_contents', 'system_tools_allow_wi_fi_multicast_reception', 'system_tools_automatically_start_at_boot', 'system_tools_bluetooth_administration', 'system_tools_change_wi_fi_state', 'system_tools_change_background_data_usage_setting', 'system_tools_change_network_connectivity'] \n",
      "\n",
      "['services_that_cost_you_money_directly_call_phone_numbers', 'services_that_cost_you_money_send_sms_messages', 'storage_modify_delete_usb_storage_contents_modify_delete_sd_card_contents', 'system_tools_allow_wi_fi_multicast_reception', 'system_tools_automatically_start_at_boot', 'system_tools_bluetooth_administration', 'system_tools_change_wi_fi_state', 'system_tools_change_background_data_usage_setting', 'system_tools_change_network_connectivity', 'system_tools_change_your_ui_settings'] \n",
      "\n",
      "['services_that_cost_you_money_send_sms_messages', 'storage_modify_delete_usb_storage_contents_modify_delete_sd_card_contents', 'system_tools_allow_wi_fi_multicast_reception', 'system_tools_automatically_start_at_boot', 'system_tools_bluetooth_administration', 'system_tools_change_wi_fi_state', 'system_tools_change_background_data_usage_setting', 'system_tools_change_network_connectivity', 'system_tools_change_your_ui_settings', 'system_tools_delete_all_application_cache_data'] \n",
      "\n",
      "['storage_modify_delete_usb_storage_contents_modify_delete_sd_card_contents', 'system_tools_allow_wi_fi_multicast_reception', 'system_tools_automatically_start_at_boot', 'system_tools_bluetooth_administration', 'system_tools_change_wi_fi_state', 'system_tools_change_background_data_usage_setting', 'system_tools_change_network_connectivity', 'system_tools_change_your_ui_settings', 'system_tools_delete_all_application_cache_data', 'system_tools_disable_keylock'] \n",
      "\n",
      "['system_tools_allow_wi_fi_multicast_reception', 'system_tools_automatically_start_at_boot', 'system_tools_bluetooth_administration', 'system_tools_change_wi_fi_state', 'system_tools_change_background_data_usage_setting', 'system_tools_change_network_connectivity', 'system_tools_change_your_ui_settings', 'system_tools_delete_all_application_cache_data', 'system_tools_disable_keylock', 'system_tools_display_system_level_alerts'] \n",
      "\n",
      "['system_tools_automatically_start_at_boot', 'system_tools_bluetooth_administration', 'system_tools_change_wi_fi_state', 'system_tools_change_background_data_usage_setting', 'system_tools_change_network_connectivity', 'system_tools_change_your_ui_settings', 'system_tools_delete_all_application_cache_data', 'system_tools_disable_keylock', 'system_tools_display_system_level_alerts', 'system_tools_expand_collapse_status_bar'] \n",
      "\n",
      "['system_tools_bluetooth_administration', 'system_tools_change_wi_fi_state', 'system_tools_change_background_data_usage_setting', 'system_tools_change_network_connectivity', 'system_tools_change_your_ui_settings', 'system_tools_delete_all_application_cache_data', 'system_tools_disable_keylock', 'system_tools_display_system_level_alerts', 'system_tools_expand_collapse_status_bar', 'system_tools_force_stop_other_applications'] \n",
      "\n",
      "['system_tools_change_wi_fi_state', 'system_tools_change_background_data_usage_setting', 'system_tools_change_network_connectivity', 'system_tools_change_your_ui_settings', 'system_tools_delete_all_application_cache_data', 'system_tools_disable_keylock', 'system_tools_display_system_level_alerts', 'system_tools_expand_collapse_status_bar', 'system_tools_force_stop_other_applications', 'system_tools_format_external_storage'] \n",
      "\n",
      "['system_tools_change_background_data_usage_setting', 'system_tools_change_network_connectivity', 'system_tools_change_your_ui_settings', 'system_tools_delete_all_application_cache_data', 'system_tools_disable_keylock', 'system_tools_display_system_level_alerts', 'system_tools_expand_collapse_status_bar', 'system_tools_force_stop_other_applications', 'system_tools_format_external_storage', 'system_tools_kill_background_processes'] \n",
      "\n",
      "['system_tools_change_network_connectivity', 'system_tools_change_your_ui_settings', 'system_tools_delete_all_application_cache_data', 'system_tools_disable_keylock', 'system_tools_display_system_level_alerts', 'system_tools_expand_collapse_status_bar', 'system_tools_force_stop_other_applications', 'system_tools_format_external_storage', 'system_tools_kill_background_processes', 'system_tools_make_application_always_run'] \n",
      "\n",
      "['system_tools_change_your_ui_settings', 'system_tools_delete_all_application_cache_data', 'system_tools_disable_keylock', 'system_tools_display_system_level_alerts', 'system_tools_expand_collapse_status_bar', 'system_tools_force_stop_other_applications', 'system_tools_format_external_storage', 'system_tools_kill_background_processes', 'system_tools_make_application_always_run', 'system_tools_measure_application_storage_space'] \n",
      "\n",
      "['system_tools_delete_all_application_cache_data', 'system_tools_disable_keylock', 'system_tools_display_system_level_alerts', 'system_tools_expand_collapse_status_bar', 'system_tools_force_stop_other_applications', 'system_tools_format_external_storage', 'system_tools_kill_background_processes', 'system_tools_make_application_always_run', 'system_tools_measure_application_storage_space', 'system_tools_modify_global_animation_speed'] \n",
      "\n",
      "['system_tools_disable_keylock', 'system_tools_display_system_level_alerts', 'system_tools_expand_collapse_status_bar', 'system_tools_force_stop_other_applications', 'system_tools_format_external_storage', 'system_tools_kill_background_processes', 'system_tools_make_application_always_run', 'system_tools_measure_application_storage_space', 'system_tools_modify_global_animation_speed', 'system_tools_modify_global_system_settings'] \n",
      "\n",
      "['system_tools_display_system_level_alerts', 'system_tools_expand_collapse_status_bar', 'system_tools_force_stop_other_applications', 'system_tools_format_external_storage', 'system_tools_kill_background_processes', 'system_tools_make_application_always_run', 'system_tools_measure_application_storage_space', 'system_tools_modify_global_animation_speed', 'system_tools_modify_global_system_settings', 'system_tools_mount_and_unmount_filesystems'] \n",
      "\n",
      "['system_tools_expand_collapse_status_bar', 'system_tools_force_stop_other_applications', 'system_tools_format_external_storage', 'system_tools_kill_background_processes', 'system_tools_make_application_always_run', 'system_tools_measure_application_storage_space', 'system_tools_modify_global_animation_speed', 'system_tools_modify_global_system_settings', 'system_tools_mount_and_unmount_filesystems', 'system_tools_prevent_device_from_sleeping'] \n",
      "\n",
      "['system_tools_force_stop_other_applications', 'system_tools_format_external_storage', 'system_tools_kill_background_processes', 'system_tools_make_application_always_run', 'system_tools_measure_application_storage_space', 'system_tools_modify_global_animation_speed', 'system_tools_modify_global_system_settings', 'system_tools_mount_and_unmount_filesystems', 'system_tools_prevent_device_from_sleeping', 'system_tools_read_subscribed_feeds'] \n",
      "\n",
      "['system_tools_format_external_storage', 'system_tools_kill_background_processes', 'system_tools_make_application_always_run', 'system_tools_measure_application_storage_space', 'system_tools_modify_global_animation_speed', 'system_tools_modify_global_system_settings', 'system_tools_mount_and_unmount_filesystems', 'system_tools_prevent_device_from_sleeping', 'system_tools_read_subscribed_feeds', 'system_tools_read_sync_settings'] \n",
      "\n",
      "['system_tools_kill_background_processes', 'system_tools_make_application_always_run', 'system_tools_measure_application_storage_space', 'system_tools_modify_global_animation_speed', 'system_tools_modify_global_system_settings', 'system_tools_mount_and_unmount_filesystems', 'system_tools_prevent_device_from_sleeping', 'system_tools_read_subscribed_feeds', 'system_tools_read_sync_settings', 'system_tools_read_sync_statistics'] \n",
      "\n",
      "['system_tools_make_application_always_run', 'system_tools_measure_application_storage_space', 'system_tools_modify_global_animation_speed', 'system_tools_modify_global_system_settings', 'system_tools_mount_and_unmount_filesystems', 'system_tools_prevent_device_from_sleeping', 'system_tools_read_subscribed_feeds', 'system_tools_read_sync_settings', 'system_tools_read_sync_statistics', 'system_tools_read_write_to_resources_owned_by_diag'] \n",
      "\n",
      "['system_tools_measure_application_storage_space', 'system_tools_modify_global_animation_speed', 'system_tools_modify_global_system_settings', 'system_tools_mount_and_unmount_filesystems', 'system_tools_prevent_device_from_sleeping', 'system_tools_read_subscribed_feeds', 'system_tools_read_sync_settings', 'system_tools_read_sync_statistics', 'system_tools_read_write_to_resources_owned_by_diag', 'system_tools_reorder_running_applications'] \n",
      "\n",
      "['system_tools_modify_global_animation_speed', 'system_tools_modify_global_system_settings', 'system_tools_mount_and_unmount_filesystems', 'system_tools_prevent_device_from_sleeping', 'system_tools_read_subscribed_feeds', 'system_tools_read_sync_settings', 'system_tools_read_sync_statistics', 'system_tools_read_write_to_resources_owned_by_diag', 'system_tools_reorder_running_applications', 'system_tools_retrieve_running_applications'] \n",
      "\n",
      "['system_tools_modify_global_system_settings', 'system_tools_mount_and_unmount_filesystems', 'system_tools_prevent_device_from_sleeping', 'system_tools_read_subscribed_feeds', 'system_tools_read_sync_settings', 'system_tools_read_sync_statistics', 'system_tools_read_write_to_resources_owned_by_diag', 'system_tools_reorder_running_applications', 'system_tools_retrieve_running_applications', 'system_tools_send_package_removed_broadcast'] \n",
      "\n",
      "['system_tools_mount_and_unmount_filesystems', 'system_tools_prevent_device_from_sleeping', 'system_tools_read_subscribed_feeds', 'system_tools_read_sync_settings', 'system_tools_read_sync_statistics', 'system_tools_read_write_to_resources_owned_by_diag', 'system_tools_reorder_running_applications', 'system_tools_retrieve_running_applications', 'system_tools_send_package_removed_broadcast', 'system_tools_send_sticky_broadcast'] \n",
      "\n",
      "['system_tools_prevent_device_from_sleeping', 'system_tools_read_subscribed_feeds', 'system_tools_read_sync_settings', 'system_tools_read_sync_statistics', 'system_tools_read_write_to_resources_owned_by_diag', 'system_tools_reorder_running_applications', 'system_tools_retrieve_running_applications', 'system_tools_send_package_removed_broadcast', 'system_tools_send_sticky_broadcast', 'system_tools_set_preferred_applications'] \n",
      "\n",
      "['system_tools_read_subscribed_feeds', 'system_tools_read_sync_settings', 'system_tools_read_sync_statistics', 'system_tools_read_write_to_resources_owned_by_diag', 'system_tools_reorder_running_applications', 'system_tools_retrieve_running_applications', 'system_tools_send_package_removed_broadcast', 'system_tools_send_sticky_broadcast', 'system_tools_set_preferred_applications', 'system_tools_set_time_zone'] \n",
      "\n",
      "['system_tools_read_sync_settings', 'system_tools_read_sync_statistics', 'system_tools_read_write_to_resources_owned_by_diag', 'system_tools_reorder_running_applications', 'system_tools_retrieve_running_applications', 'system_tools_send_package_removed_broadcast', 'system_tools_send_sticky_broadcast', 'system_tools_set_preferred_applications', 'system_tools_set_time_zone', 'system_tools_set_wallpaper'] \n",
      "\n",
      "['system_tools_read_sync_statistics', 'system_tools_read_write_to_resources_owned_by_diag', 'system_tools_reorder_running_applications', 'system_tools_retrieve_running_applications', 'system_tools_send_package_removed_broadcast', 'system_tools_send_sticky_broadcast', 'system_tools_set_preferred_applications', 'system_tools_set_time_zone', 'system_tools_set_wallpaper', 'system_tools_set_wallpaper_size_hints'] \n",
      "\n",
      "['system_tools_read_write_to_resources_owned_by_diag', 'system_tools_reorder_running_applications', 'system_tools_retrieve_running_applications', 'system_tools_send_package_removed_broadcast', 'system_tools_send_sticky_broadcast', 'system_tools_set_preferred_applications', 'system_tools_set_time_zone', 'system_tools_set_wallpaper', 'system_tools_set_wallpaper_size_hints', 'system_tools_write_access_point_name_settings'] \n",
      "\n",
      "['system_tools_reorder_running_applications', 'system_tools_retrieve_running_applications', 'system_tools_send_package_removed_broadcast', 'system_tools_send_sticky_broadcast', 'system_tools_set_preferred_applications', 'system_tools_set_time_zone', 'system_tools_set_wallpaper', 'system_tools_set_wallpaper_size_hints', 'system_tools_write_access_point_name_settings', 'system_tools_write_subscribed_feeds'] \n",
      "\n",
      "['system_tools_retrieve_running_applications', 'system_tools_send_package_removed_broadcast', 'system_tools_send_sticky_broadcast', 'system_tools_set_preferred_applications', 'system_tools_set_time_zone', 'system_tools_set_wallpaper', 'system_tools_set_wallpaper_size_hints', 'system_tools_write_access_point_name_settings', 'system_tools_write_subscribed_feeds', 'system_tools_write_sync_settings'] \n",
      "\n",
      "['system_tools_send_package_removed_broadcast', 'system_tools_send_sticky_broadcast', 'system_tools_set_preferred_applications', 'system_tools_set_time_zone', 'system_tools_set_wallpaper', 'system_tools_set_wallpaper_size_hints', 'system_tools_write_access_point_name_settings', 'system_tools_write_subscribed_feeds', 'system_tools_write_sync_settings', 'your_accounts_blogger'] \n",
      "\n",
      "['system_tools_send_sticky_broadcast', 'system_tools_set_preferred_applications', 'system_tools_set_time_zone', 'system_tools_set_wallpaper', 'system_tools_set_wallpaper_size_hints', 'system_tools_write_access_point_name_settings', 'system_tools_write_subscribed_feeds', 'system_tools_write_sync_settings', 'your_accounts_blogger', 'your_accounts_google_app_engine'] \n",
      "\n",
      "['system_tools_set_preferred_applications', 'system_tools_set_time_zone', 'system_tools_set_wallpaper', 'system_tools_set_wallpaper_size_hints', 'system_tools_write_access_point_name_settings', 'system_tools_write_subscribed_feeds', 'system_tools_write_sync_settings', 'your_accounts_blogger', 'your_accounts_google_app_engine', 'your_accounts_google_docs'] \n",
      "\n",
      "['system_tools_set_time_zone', 'system_tools_set_wallpaper', 'system_tools_set_wallpaper_size_hints', 'system_tools_write_access_point_name_settings', 'system_tools_write_subscribed_feeds', 'system_tools_write_sync_settings', 'your_accounts_blogger', 'your_accounts_google_app_engine', 'your_accounts_google_docs', 'your_accounts_google_finance'] \n",
      "\n",
      "['system_tools_set_wallpaper', 'system_tools_set_wallpaper_size_hints', 'system_tools_write_access_point_name_settings', 'system_tools_write_subscribed_feeds', 'system_tools_write_sync_settings', 'your_accounts_blogger', 'your_accounts_google_app_engine', 'your_accounts_google_docs', 'your_accounts_google_finance', 'your_accounts_google_maps'] \n",
      "\n",
      "['system_tools_set_wallpaper_size_hints', 'system_tools_write_access_point_name_settings', 'system_tools_write_subscribed_feeds', 'system_tools_write_sync_settings', 'your_accounts_blogger', 'your_accounts_google_app_engine', 'your_accounts_google_docs', 'your_accounts_google_finance', 'your_accounts_google_maps', 'your_accounts_google_spreadsheets'] \n",
      "\n",
      "['system_tools_write_access_point_name_settings', 'system_tools_write_subscribed_feeds', 'system_tools_write_sync_settings', 'your_accounts_blogger', 'your_accounts_google_app_engine', 'your_accounts_google_docs', 'your_accounts_google_finance', 'your_accounts_google_maps', 'your_accounts_google_spreadsheets', 'your_accounts_google_voice'] \n",
      "\n",
      "['system_tools_write_subscribed_feeds', 'system_tools_write_sync_settings', 'your_accounts_blogger', 'your_accounts_google_app_engine', 'your_accounts_google_docs', 'your_accounts_google_finance', 'your_accounts_google_maps', 'your_accounts_google_spreadsheets', 'your_accounts_google_voice', 'your_accounts_google_mail'] \n",
      "\n",
      "['system_tools_write_sync_settings', 'your_accounts_blogger', 'your_accounts_google_app_engine', 'your_accounts_google_docs', 'your_accounts_google_finance', 'your_accounts_google_maps', 'your_accounts_google_spreadsheets', 'your_accounts_google_voice', 'your_accounts_google_mail', 'your_accounts_picasa_web_albums'] \n",
      "\n",
      "['your_accounts_blogger', 'your_accounts_google_app_engine', 'your_accounts_google_docs', 'your_accounts_google_finance', 'your_accounts_google_maps', 'your_accounts_google_spreadsheets', 'your_accounts_google_voice', 'your_accounts_google_mail', 'your_accounts_picasa_web_albums', 'your_accounts_youtube'] \n",
      "\n",
      "['your_accounts_google_app_engine', 'your_accounts_google_docs', 'your_accounts_google_finance', 'your_accounts_google_maps', 'your_accounts_google_spreadsheets', 'your_accounts_google_voice', 'your_accounts_google_mail', 'your_accounts_picasa_web_albums', 'your_accounts_youtube', 'your_accounts_youtube_usernames'] \n",
      "\n",
      "['your_accounts_google_docs', 'your_accounts_google_finance', 'your_accounts_google_maps', 'your_accounts_google_spreadsheets', 'your_accounts_google_voice', 'your_accounts_google_mail', 'your_accounts_picasa_web_albums', 'your_accounts_youtube', 'your_accounts_youtube_usernames', 'your_accounts_access_all_google_services'] \n",
      "\n",
      "['your_accounts_google_finance', 'your_accounts_google_maps', 'your_accounts_google_spreadsheets', 'your_accounts_google_voice', 'your_accounts_google_mail', 'your_accounts_picasa_web_albums', 'your_accounts_youtube', 'your_accounts_youtube_usernames', 'your_accounts_access_all_google_services', 'your_accounts_access_other_google_services'] \n",
      "\n",
      "['your_accounts_google_maps', 'your_accounts_google_spreadsheets', 'your_accounts_google_voice', 'your_accounts_google_mail', 'your_accounts_picasa_web_albums', 'your_accounts_youtube', 'your_accounts_youtube_usernames', 'your_accounts_access_all_google_services', 'your_accounts_access_other_google_services', 'your_accounts_act_as_an_account_authenticator'] \n",
      "\n",
      "['your_accounts_google_spreadsheets', 'your_accounts_google_voice', 'your_accounts_google_mail', 'your_accounts_picasa_web_albums', 'your_accounts_youtube', 'your_accounts_youtube_usernames', 'your_accounts_access_all_google_services', 'your_accounts_access_other_google_services', 'your_accounts_act_as_an_account_authenticator', 'your_accounts_act_as_the_accountmanagerservice'] \n",
      "\n",
      "['your_accounts_google_voice', 'your_accounts_google_mail', 'your_accounts_picasa_web_albums', 'your_accounts_youtube', 'your_accounts_youtube_usernames', 'your_accounts_access_all_google_services', 'your_accounts_access_other_google_services', 'your_accounts_act_as_an_account_authenticator', 'your_accounts_act_as_the_accountmanagerservice', 'your_accounts_contacts_data_in_google_accounts'] \n",
      "\n",
      "['your_accounts_google_mail', 'your_accounts_picasa_web_albums', 'your_accounts_youtube', 'your_accounts_youtube_usernames', 'your_accounts_access_all_google_services', 'your_accounts_access_other_google_services', 'your_accounts_act_as_an_account_authenticator', 'your_accounts_act_as_the_accountmanagerservice', 'your_accounts_contacts_data_in_google_accounts', 'your_accounts_discover_known_accounts'] \n",
      "\n",
      "['your_accounts_picasa_web_albums', 'your_accounts_youtube', 'your_accounts_youtube_usernames', 'your_accounts_access_all_google_services', 'your_accounts_access_other_google_services', 'your_accounts_act_as_an_account_authenticator', 'your_accounts_act_as_the_accountmanagerservice', 'your_accounts_contacts_data_in_google_accounts', 'your_accounts_discover_known_accounts', 'your_accounts_manage_the_accounts_list'] \n",
      "\n",
      "['your_accounts_youtube', 'your_accounts_youtube_usernames', 'your_accounts_access_all_google_services', 'your_accounts_access_other_google_services', 'your_accounts_act_as_an_account_authenticator', 'your_accounts_act_as_the_accountmanagerservice', 'your_accounts_contacts_data_in_google_accounts', 'your_accounts_discover_known_accounts', 'your_accounts_manage_the_accounts_list', 'your_accounts_read_google_service_configuration'] \n",
      "\n",
      "['your_accounts_youtube_usernames', 'your_accounts_access_all_google_services', 'your_accounts_access_other_google_services', 'your_accounts_act_as_an_account_authenticator', 'your_accounts_act_as_the_accountmanagerservice', 'your_accounts_contacts_data_in_google_accounts', 'your_accounts_discover_known_accounts', 'your_accounts_manage_the_accounts_list', 'your_accounts_read_google_service_configuration', 'your_accounts_use_the_authentication_credentials_of_an_account'] \n",
      "\n",
      "['your_accounts_access_all_google_services', 'your_accounts_access_other_google_services', 'your_accounts_act_as_an_account_authenticator', 'your_accounts_act_as_the_accountmanagerservice', 'your_accounts_contacts_data_in_google_accounts', 'your_accounts_discover_known_accounts', 'your_accounts_manage_the_accounts_list', 'your_accounts_read_google_service_configuration', 'your_accounts_use_the_authentication_credentials_of_an_account', 'your_accounts_view_configured_accounts'] \n",
      "\n",
      "['your_accounts_access_other_google_services', 'your_accounts_act_as_an_account_authenticator', 'your_accounts_act_as_the_accountmanagerservice', 'your_accounts_contacts_data_in_google_accounts', 'your_accounts_discover_known_accounts', 'your_accounts_manage_the_accounts_list', 'your_accounts_read_google_service_configuration', 'your_accounts_use_the_authentication_credentials_of_an_account', 'your_accounts_view_configured_accounts', 'your_location_access_extra_location_provider_commands'] \n",
      "\n",
      "['your_accounts_act_as_an_account_authenticator', 'your_accounts_act_as_the_accountmanagerservice', 'your_accounts_contacts_data_in_google_accounts', 'your_accounts_discover_known_accounts', 'your_accounts_manage_the_accounts_list', 'your_accounts_read_google_service_configuration', 'your_accounts_use_the_authentication_credentials_of_an_account', 'your_accounts_view_configured_accounts', 'your_location_access_extra_location_provider_commands', 'your_location_coarse'] \n",
      "\n",
      "['your_accounts_act_as_the_accountmanagerservice', 'your_accounts_contacts_data_in_google_accounts', 'your_accounts_discover_known_accounts', 'your_accounts_manage_the_accounts_list', 'your_accounts_read_google_service_configuration', 'your_accounts_use_the_authentication_credentials_of_an_account', 'your_accounts_view_configured_accounts', 'your_location_access_extra_location_provider_commands', 'your_location_coarse', 'your_location_fine'] \n",
      "\n",
      "['your_accounts_contacts_data_in_google_accounts', 'your_accounts_discover_known_accounts', 'your_accounts_manage_the_accounts_list', 'your_accounts_read_google_service_configuration', 'your_accounts_use_the_authentication_credentials_of_an_account', 'your_accounts_view_configured_accounts', 'your_location_access_extra_location_provider_commands', 'your_location_coarse', 'your_location_fine', 'your_location_mock_location_sources_for_testing'] \n",
      "\n",
      "['your_accounts_discover_known_accounts', 'your_accounts_manage_the_accounts_list', 'your_accounts_read_google_service_configuration', 'your_accounts_use_the_authentication_credentials_of_an_account', 'your_accounts_view_configured_accounts', 'your_location_access_extra_location_provider_commands', 'your_location_coarse', 'your_location_fine', 'your_location_mock_location_sources_for_testing', 'your_messages_read_email_attachments'] \n",
      "\n",
      "['your_accounts_manage_the_accounts_list', 'your_accounts_read_google_service_configuration', 'your_accounts_use_the_authentication_credentials_of_an_account', 'your_accounts_view_configured_accounts', 'your_location_access_extra_location_provider_commands', 'your_location_coarse', 'your_location_fine', 'your_location_mock_location_sources_for_testing', 'your_messages_read_email_attachments', 'your_messages_send_gmail'] \n",
      "\n",
      "['your_accounts_read_google_service_configuration', 'your_accounts_use_the_authentication_credentials_of_an_account', 'your_accounts_view_configured_accounts', 'your_location_access_extra_location_provider_commands', 'your_location_coarse', 'your_location_fine', 'your_location_mock_location_sources_for_testing', 'your_messages_read_email_attachments', 'your_messages_send_gmail', 'your_messages_edit_sms_or_mms'] \n",
      "\n",
      "['your_accounts_use_the_authentication_credentials_of_an_account', 'your_accounts_view_configured_accounts', 'your_location_access_extra_location_provider_commands', 'your_location_coarse', 'your_location_fine', 'your_location_mock_location_sources_for_testing', 'your_messages_read_email_attachments', 'your_messages_send_gmail', 'your_messages_edit_sms_or_mms', 'your_messages_modify_gmail'] \n",
      "\n",
      "['your_accounts_view_configured_accounts', 'your_location_access_extra_location_provider_commands', 'your_location_coarse', 'your_location_fine', 'your_location_mock_location_sources_for_testing', 'your_messages_read_email_attachments', 'your_messages_send_gmail', 'your_messages_edit_sms_or_mms', 'your_messages_modify_gmail', 'your_messages_read_gmail'] \n",
      "\n",
      "['your_location_access_extra_location_provider_commands', 'your_location_coarse', 'your_location_fine', 'your_location_mock_location_sources_for_testing', 'your_messages_read_email_attachments', 'your_messages_send_gmail', 'your_messages_edit_sms_or_mms', 'your_messages_modify_gmail', 'your_messages_read_gmail', 'your_messages_read_gmail_attachment_previews'] \n",
      "\n",
      "['your_location_coarse', 'your_location_fine', 'your_location_mock_location_sources_for_testing', 'your_messages_read_email_attachments', 'your_messages_send_gmail', 'your_messages_edit_sms_or_mms', 'your_messages_modify_gmail', 'your_messages_read_gmail', 'your_messages_read_gmail_attachment_previews', 'your_messages_read_sms_or_mms'] \n",
      "\n",
      "['your_location_fine', 'your_location_mock_location_sources_for_testing', 'your_messages_read_email_attachments', 'your_messages_send_gmail', 'your_messages_edit_sms_or_mms', 'your_messages_modify_gmail', 'your_messages_read_gmail', 'your_messages_read_gmail_attachment_previews', 'your_messages_read_sms_or_mms', 'your_messages_read_instant_messages'] \n",
      "\n",
      "['your_location_mock_location_sources_for_testing', 'your_messages_read_email_attachments', 'your_messages_send_gmail', 'your_messages_edit_sms_or_mms', 'your_messages_modify_gmail', 'your_messages_read_gmail', 'your_messages_read_gmail_attachment_previews', 'your_messages_read_sms_or_mms', 'your_messages_read_instant_messages', 'your_messages_receive_mms'] \n",
      "\n",
      "['your_messages_read_email_attachments', 'your_messages_send_gmail', 'your_messages_edit_sms_or_mms', 'your_messages_modify_gmail', 'your_messages_read_gmail', 'your_messages_read_gmail_attachment_previews', 'your_messages_read_sms_or_mms', 'your_messages_read_instant_messages', 'your_messages_receive_mms', 'your_messages_receive_sms'] \n",
      "\n",
      "['your_messages_send_gmail', 'your_messages_edit_sms_or_mms', 'your_messages_modify_gmail', 'your_messages_read_gmail', 'your_messages_read_gmail_attachment_previews', 'your_messages_read_sms_or_mms', 'your_messages_read_instant_messages', 'your_messages_receive_mms', 'your_messages_receive_sms', 'your_messages_receive_wap'] \n",
      "\n",
      "['your_messages_edit_sms_or_mms', 'your_messages_modify_gmail', 'your_messages_read_gmail', 'your_messages_read_gmail_attachment_previews', 'your_messages_read_sms_or_mms', 'your_messages_read_instant_messages', 'your_messages_receive_mms', 'your_messages_receive_sms', 'your_messages_receive_wap', 'your_messages_send_sms_received_broadcast'] \n",
      "\n",
      "['your_messages_modify_gmail', 'your_messages_read_gmail', 'your_messages_read_gmail_attachment_previews', 'your_messages_read_sms_or_mms', 'your_messages_read_instant_messages', 'your_messages_receive_mms', 'your_messages_receive_sms', 'your_messages_receive_wap', 'your_messages_send_sms_received_broadcast', 'your_messages_send_wap_push_received_broadcast'] \n",
      "\n",
      "['your_messages_read_gmail', 'your_messages_read_gmail_attachment_previews', 'your_messages_read_sms_or_mms', 'your_messages_read_instant_messages', 'your_messages_receive_mms', 'your_messages_receive_sms', 'your_messages_receive_wap', 'your_messages_send_sms_received_broadcast', 'your_messages_send_wap_push_received_broadcast', 'your_messages_write_instant_messages'] \n",
      "\n",
      "['your_messages_read_gmail_attachment_previews', 'your_messages_read_sms_or_mms', 'your_messages_read_instant_messages', 'your_messages_receive_mms', 'your_messages_receive_sms', 'your_messages_receive_wap', 'your_messages_send_sms_received_broadcast', 'your_messages_send_wap_push_received_broadcast', 'your_messages_write_instant_messages', 'your_personal_information_add_or_modify_calendar_events_and_send_email_to_guests'] \n",
      "\n",
      "['your_messages_read_sms_or_mms', 'your_messages_read_instant_messages', 'your_messages_receive_mms', 'your_messages_receive_sms', 'your_messages_receive_wap', 'your_messages_send_sms_received_broadcast', 'your_messages_send_wap_push_received_broadcast', 'your_messages_write_instant_messages', 'your_personal_information_add_or_modify_calendar_events_and_send_email_to_guests', 'your_personal_information_choose_widgets'] \n",
      "\n",
      "['your_messages_read_instant_messages', 'your_messages_receive_mms', 'your_messages_receive_sms', 'your_messages_receive_wap', 'your_messages_send_sms_received_broadcast', 'your_messages_send_wap_push_received_broadcast', 'your_messages_write_instant_messages', 'your_personal_information_add_or_modify_calendar_events_and_send_email_to_guests', 'your_personal_information_choose_widgets', 'your_personal_information_read_browsers_history_and_bookmarks'] \n",
      "\n",
      "['your_messages_receive_mms', 'your_messages_receive_sms', 'your_messages_receive_wap', 'your_messages_send_sms_received_broadcast', 'your_messages_send_wap_push_received_broadcast', 'your_messages_write_instant_messages', 'your_personal_information_add_or_modify_calendar_events_and_send_email_to_guests', 'your_personal_information_choose_widgets', 'your_personal_information_read_browsers_history_and_bookmarks', 'your_personal_information_read_calendar_events'] \n",
      "\n",
      "['your_messages_receive_sms', 'your_messages_receive_wap', 'your_messages_send_sms_received_broadcast', 'your_messages_send_wap_push_received_broadcast', 'your_messages_write_instant_messages', 'your_personal_information_add_or_modify_calendar_events_and_send_email_to_guests', 'your_personal_information_choose_widgets', 'your_personal_information_read_browsers_history_and_bookmarks', 'your_personal_information_read_calendar_events', 'your_personal_information_read_contact_data'] \n",
      "\n",
      "['your_messages_receive_wap', 'your_messages_send_sms_received_broadcast', 'your_messages_send_wap_push_received_broadcast', 'your_messages_write_instant_messages', 'your_personal_information_add_or_modify_calendar_events_and_send_email_to_guests', 'your_personal_information_choose_widgets', 'your_personal_information_read_browsers_history_and_bookmarks', 'your_personal_information_read_calendar_events', 'your_personal_information_read_contact_data', 'your_personal_information_read_sensitive_log_data'] \n",
      "\n",
      "['your_messages_send_sms_received_broadcast', 'your_messages_send_wap_push_received_broadcast', 'your_messages_write_instant_messages', 'your_personal_information_add_or_modify_calendar_events_and_send_email_to_guests', 'your_personal_information_choose_widgets', 'your_personal_information_read_browsers_history_and_bookmarks', 'your_personal_information_read_calendar_events', 'your_personal_information_read_contact_data', 'your_personal_information_read_sensitive_log_data', 'your_personal_information_read_user_defined_dictionary'] \n",
      "\n",
      "['your_messages_send_wap_push_received_broadcast', 'your_messages_write_instant_messages', 'your_personal_information_add_or_modify_calendar_events_and_send_email_to_guests', 'your_personal_information_choose_widgets', 'your_personal_information_read_browsers_history_and_bookmarks', 'your_personal_information_read_calendar_events', 'your_personal_information_read_contact_data', 'your_personal_information_read_sensitive_log_data', 'your_personal_information_read_user_defined_dictionary', 'your_personal_information_retrieve_system_internal_state'] \n",
      "\n",
      "['your_messages_write_instant_messages', 'your_personal_information_add_or_modify_calendar_events_and_send_email_to_guests', 'your_personal_information_choose_widgets', 'your_personal_information_read_browsers_history_and_bookmarks', 'your_personal_information_read_calendar_events', 'your_personal_information_read_contact_data', 'your_personal_information_read_sensitive_log_data', 'your_personal_information_read_user_defined_dictionary', 'your_personal_information_retrieve_system_internal_state', 'your_personal_information_set_alarm_in_alarm_clock'] \n",
      "\n",
      "['your_personal_information_add_or_modify_calendar_events_and_send_email_to_guests', 'your_personal_information_choose_widgets', 'your_personal_information_read_browsers_history_and_bookmarks', 'your_personal_information_read_calendar_events', 'your_personal_information_read_contact_data', 'your_personal_information_read_sensitive_log_data', 'your_personal_information_read_user_defined_dictionary', 'your_personal_information_retrieve_system_internal_state', 'your_personal_information_set_alarm_in_alarm_clock', 'your_personal_information_write_browsers_history_and_bookmarks'] \n",
      "\n",
      "['your_personal_information_choose_widgets', 'your_personal_information_read_browsers_history_and_bookmarks', 'your_personal_information_read_calendar_events', 'your_personal_information_read_contact_data', 'your_personal_information_read_sensitive_log_data', 'your_personal_information_read_user_defined_dictionary', 'your_personal_information_retrieve_system_internal_state', 'your_personal_information_set_alarm_in_alarm_clock', 'your_personal_information_write_browsers_history_and_bookmarks', 'your_personal_information_write_contact_data'] \n",
      "\n",
      "['your_personal_information_read_browsers_history_and_bookmarks', 'your_personal_information_read_calendar_events', 'your_personal_information_read_contact_data', 'your_personal_information_read_sensitive_log_data', 'your_personal_information_read_user_defined_dictionary', 'your_personal_information_retrieve_system_internal_state', 'your_personal_information_set_alarm_in_alarm_clock', 'your_personal_information_write_browsers_history_and_bookmarks', 'your_personal_information_write_contact_data', 'your_personal_information_write_to_user_defined_dictionary'] \n",
      "\n",
      "['your_personal_information_read_calendar_events', 'your_personal_information_read_contact_data', 'your_personal_information_read_sensitive_log_data', 'your_personal_information_read_user_defined_dictionary', 'your_personal_information_retrieve_system_internal_state', 'your_personal_information_set_alarm_in_alarm_clock', 'your_personal_information_write_browsers_history_and_bookmarks', 'your_personal_information_write_contact_data', 'your_personal_information_write_to_user_defined_dictionary'] \n",
      "\n",
      "['your_personal_information_read_contact_data', 'your_personal_information_read_sensitive_log_data', 'your_personal_information_read_user_defined_dictionary', 'your_personal_information_retrieve_system_internal_state', 'your_personal_information_set_alarm_in_alarm_clock', 'your_personal_information_write_browsers_history_and_bookmarks', 'your_personal_information_write_contact_data', 'your_personal_information_write_to_user_defined_dictionary'] \n",
      "\n",
      "['your_personal_information_read_sensitive_log_data', 'your_personal_information_read_user_defined_dictionary', 'your_personal_information_retrieve_system_internal_state', 'your_personal_information_set_alarm_in_alarm_clock', 'your_personal_information_write_browsers_history_and_bookmarks', 'your_personal_information_write_contact_data', 'your_personal_information_write_to_user_defined_dictionary'] \n",
      "\n",
      "['your_personal_information_read_user_defined_dictionary', 'your_personal_information_retrieve_system_internal_state', 'your_personal_information_set_alarm_in_alarm_clock', 'your_personal_information_write_browsers_history_and_bookmarks', 'your_personal_information_write_contact_data', 'your_personal_information_write_to_user_defined_dictionary'] \n",
      "\n",
      "['your_personal_information_retrieve_system_internal_state', 'your_personal_information_set_alarm_in_alarm_clock', 'your_personal_information_write_browsers_history_and_bookmarks', 'your_personal_information_write_contact_data', 'your_personal_information_write_to_user_defined_dictionary'] \n",
      "\n",
      "['your_personal_information_set_alarm_in_alarm_clock', 'your_personal_information_write_browsers_history_and_bookmarks', 'your_personal_information_write_contact_data', 'your_personal_information_write_to_user_defined_dictionary'] \n",
      "\n",
      "['your_personal_information_write_browsers_history_and_bookmarks', 'your_personal_information_write_contact_data', 'your_personal_information_write_to_user_defined_dictionary'] \n",
      "\n",
      "['your_personal_information_write_contact_data', 'your_personal_information_write_to_user_defined_dictionary'] \n",
      "\n",
      "['your_personal_information_write_to_user_defined_dictionary'] \n",
      "\n"
     ]
    }
   ],
   "source": [
    "features_names = list(df.drop(drop_vars, axis=1).columns)\n",
    "\n",
    "for i in range(len(features_names)):\n",
    "  print(features_names[i:i+10], '\\n')"
   ]
  },
  {
   "cell_type": "markdown",
   "metadata": {
    "id": "N35WcM6pXFtj"
   },
   "source": [
    "#### Data types"
   ]
  },
  {
   "cell_type": "code",
   "execution_count": 15,
   "metadata": {
    "colab": {
     "base_uri": "https://localhost:8080/"
    },
    "executionInfo": {
     "elapsed": 107,
     "status": "ok",
     "timestamp": 1631019731196,
     "user": {
      "displayName": "Matheus Rosso",
      "photoUrl": "",
      "userId": "07497572953789637511"
     },
     "user_tz": 180
    },
    "id": "MnkXU9PIXFtk",
    "outputId": "212d0dcc-e17d-44cf-a2ca-0d11e8a9b1b9"
   },
   "outputs": [
    {
     "name": "stdout",
     "output_type": "stream",
     "text": [
      "\u001b[1mDistribution of data types:\u001b[0m\n",
      "int64      176\n",
      "object       5\n",
      "float64      3\n",
      "Name: type, dtype: int64\n"
     ]
    }
   ],
   "source": [
    "data_types = pd.DataFrame(df.dtypes, columns=['type']).reset_index(drop=False)\n",
    "data_types.columns = ['feature', 'type']\n",
    "\n",
    "print('\\033[1mDistribution of data types:\\033[0m')\n",
    "print(data_types.type.value_counts())"
   ]
  },
  {
   "cell_type": "markdown",
   "metadata": {
    "id": "GlE7HSoBqEfq"
   },
   "source": [
    "#### Train-test split"
   ]
  },
  {
   "cell_type": "code",
   "execution_count": 16,
   "metadata": {
    "executionInfo": {
     "elapsed": 37,
     "status": "ok",
     "timestamp": 1631019731198,
     "user": {
      "displayName": "Matheus Rosso",
      "photoUrl": "",
      "userId": "07497572953789637511"
     },
     "user_tz": 180
    },
    "id": "JF-_LbINXFtp"
   },
   "outputs": [],
   "source": [
    "df_train, df_test = train_test_split(df, test_ratio=0.25, shuffle=True)"
   ]
  },
  {
   "cell_type": "markdown",
   "metadata": {
    "id": "2d5CERjUuOOJ"
   },
   "source": [
    "#### Feature engineering"
   ]
  },
  {
   "cell_type": "markdown",
   "metadata": {
    "id": "rSajSaaWseiv"
   },
   "source": [
    "Related apps"
   ]
  },
  {
   "cell_type": "code",
   "execution_count": 17,
   "metadata": {
    "executionInfo": {
     "elapsed": 8,
     "status": "ok",
     "timestamp": 1631019731406,
     "user": {
      "displayName": "Matheus Rosso",
      "photoUrl": "",
      "userId": "07497572953789637511"
     },
     "user_tz": 180
    },
    "id": "Cw0X9y17sfAx"
   },
   "outputs": [],
   "source": [
    "# Creating the variable with the number of related apps:\n",
    "df_train['related_apps'] = df_train['related_apps'].apply(lambda x: x if pd.isna(x) else x.replace('{', '').replace('}', ''))\n",
    "df_train['num_related_apps'] = df_train.related_apps.apply(lambda x: x if pd.isna(x) else len(x.split(',')))\n",
    "df_test['num_related_apps'] = df_test.related_apps.apply(lambda x: x if pd.isna(x) else len(x.split(',')))\n",
    "\n",
    "# Updating the list of auxiliary variables:\n",
    "drop_vars.append('related_apps')"
   ]
  },
  {
   "cell_type": "markdown",
   "metadata": {
    "id": "Uv4PQ0gTshDk"
   },
   "source": [
    "Description"
   ]
  },
  {
   "cell_type": "code",
   "execution_count": 18,
   "metadata": {
    "executionInfo": {
     "elapsed": 302,
     "status": "ok",
     "timestamp": 1631019731701,
     "user": {
      "displayName": "Matheus Rosso",
      "photoUrl": "",
      "userId": "07497572953789637511"
     },
     "user_tz": 180
    },
    "id": "0WqtIWjishv8"
   },
   "outputs": [],
   "source": [
    "# Creating the variable that indicates the number of words in a description:\n",
    "df_train['num_words_desc'] = df_train.description.apply(lambda x: x if pd.isna(x) else len(x.split(' ')))\n",
    "df_test['num_words_desc'] = df_test.description.apply(lambda x: x if pd.isna(x) else len(x.split(' ')))\n",
    "\n",
    "# Updating the list of auxiliary variables:\n",
    "drop_vars.append('description')"
   ]
  },
  {
   "cell_type": "markdown",
   "metadata": {
    "id": "oWrUyexPskDm"
   },
   "source": [
    "Category"
   ]
  },
  {
   "cell_type": "markdown",
   "metadata": {
    "id": "Z1tmxl5ZsnSN"
   },
   "source": [
    "Even though this feature engineering is actually a transformation applied over categorical features, we first implement one-hot encoding in order to translate this categorical attribute into a numerical one, since some AutoML tools explored within this project do not allow textual inputs."
   ]
  },
  {
   "cell_type": "code",
   "execution_count": 19,
   "metadata": {
    "executionInfo": {
     "elapsed": 7,
     "status": "ok",
     "timestamp": 1631019731703,
     "user": {
      "displayName": "Matheus Rosso",
      "photoUrl": "",
      "userId": "07497572953789637511"
     },
     "user_tz": 180
    },
    "id": "em-DIZybsmoa"
   },
   "outputs": [],
   "source": [
    "from transformations import applying_one_hot"
   ]
  },
  {
   "cell_type": "code",
   "execution_count": 20,
   "metadata": {
    "colab": {
     "base_uri": "https://localhost:8080/"
    },
    "executionInfo": {
     "elapsed": 520,
     "status": "ok",
     "timestamp": 1631019732218,
     "user": {
      "displayName": "Matheus Rosso",
      "photoUrl": "",
      "userId": "07497572953789637511"
     },
     "user_tz": 180
    },
    "id": "0BNHauQouc5-",
    "outputId": "0ce61736-d8da-4cf4-ede4-1e6be95fff4a"
   },
   "outputs": [
    {
     "name": "stdout",
     "output_type": "stream",
     "text": [
      "\u001b[1mNumber of categorical features:\u001b[0m 1\n",
      "\u001b[1mNumber of overall selected dummies:\u001b[0m 30.\n"
     ]
    }
   ],
   "source": [
    "transf_data = applying_one_hot(training_data=df_train, cat_vars=['category'], variance_param=-1, test_data=df_test)\n",
    "df_train = transf_data['training_data']\n",
    "df_test = transf_data['test_data']"
   ]
  },
  {
   "cell_type": "markdown",
   "metadata": {
    "id": "kcyHBWcFrYj5"
   },
   "source": [
    "<a id='data_description'></a>"
   ]
  },
  {
   "cell_type": "markdown",
   "metadata": {
    "id": "QoV6w3xxrgsI"
   },
   "source": [
    "## Data description"
   ]
  },
  {
   "cell_type": "markdown",
   "metadata": {
    "id": "e_E9Sv3Hr9eT"
   },
   "source": [
    "<a id='features_types'></a>"
   ]
  },
  {
   "cell_type": "markdown",
   "metadata": {
    "id": "r-lIb8QQsLNO"
   },
   "source": [
    "### Features types"
   ]
  },
  {
   "cell_type": "code",
   "execution_count": 21,
   "metadata": {
    "colab": {
     "base_uri": "https://localhost:8080/"
    },
    "executionInfo": {
     "elapsed": 28,
     "status": "ok",
     "timestamp": 1631019732219,
     "user": {
      "displayName": "Matheus Rosso",
      "photoUrl": "",
      "userId": "07497572953789637511"
     },
     "user_tz": 180
    },
    "id": "X8VR1RePrWOr",
    "outputId": "a0730060-0666-429b-fd8d-bb803993c5e9"
   },
   "outputs": [
    {
     "name": "stdout",
     "output_type": "stream",
     "text": [
      "\u001b[1mDistribution of data types (features):\u001b[0m\n",
      "int64      175\n",
      "uint8       30\n",
      "float64      5\n",
      "Name: type, dtype: int64\n"
     ]
    }
   ],
   "source": [
    "feature_types = pd.DataFrame(df_train.drop(drop_vars, axis=1).dtypes, columns=['type']).reset_index(drop=False)\n",
    "feature_types.columns = ['feature', 'type']\n",
    "\n",
    "print('\\033[1mDistribution of data types (features):\\033[0m')\n",
    "print(feature_types.type.value_counts())"
   ]
  },
  {
   "cell_type": "markdown",
   "metadata": {
    "id": "RuhhX1jJpZE0"
   },
   "source": [
    "<a id='ml_pipeline'></a>"
   ]
  },
  {
   "cell_type": "markdown",
   "metadata": {
    "id": "buuwL7_8pgur"
   },
   "source": [
    "## ML pipeline"
   ]
  },
  {
   "cell_type": "code",
   "execution_count": 22,
   "metadata": {
    "colab": {
     "base_uri": "https://localhost:8080/"
    },
    "executionInfo": {
     "elapsed": 25,
     "status": "ok",
     "timestamp": 1631019732221,
     "user": {
      "displayName": "Matheus Rosso",
      "photoUrl": "",
      "userId": "07497572953789637511"
     },
     "user_tz": 180
    },
    "id": "lvyAGtdipOW0",
    "outputId": "ac26c77b-35ff-47f7-e8d1-d246ef512011"
   },
   "outputs": [
    {
     "name": "stdout",
     "output_type": "stream",
     "text": [
      "Help on class TPOTClassifier in module tpot.tpot:\n",
      "\n",
      "class TPOTClassifier(tpot.base.TPOTBase)\n",
      " |  TPOTClassifier(generations=100, population_size=100, offspring_size=None, mutation_rate=0.9, crossover_rate=0.1, scoring=None, cv=5, subsample=1.0, n_jobs=1, max_time_mins=None, max_eval_time_mins=5, random_state=None, config_dict=None, template=None, warm_start=False, memory=None, use_dask=False, periodic_checkpoint_folder=None, early_stop=None, verbosity=0, disable_update_check=False, log_file=None)\n",
      " |  \n",
      " |  TPOT estimator for classification problems.\n",
      " |  \n",
      " |  Method resolution order:\n",
      " |      TPOTClassifier\n",
      " |      tpot.base.TPOTBase\n",
      " |      sklearn.base.BaseEstimator\n",
      " |      builtins.object\n",
      " |  \n",
      " |  Data and other attributes defined here:\n",
      " |  \n",
      " |  classification = True\n",
      " |  \n",
      " |  default_config_dict = {'sklearn.cluster.FeatureAgglomeration': {'affin...\n",
      " |  \n",
      " |  regression = False\n",
      " |  \n",
      " |  scoring_function = 'accuracy'\n",
      " |  \n",
      " |  ----------------------------------------------------------------------\n",
      " |  Methods inherited from tpot.base.TPOTBase:\n",
      " |  \n",
      " |  __init__(self, generations=100, population_size=100, offspring_size=None, mutation_rate=0.9, crossover_rate=0.1, scoring=None, cv=5, subsample=1.0, n_jobs=1, max_time_mins=None, max_eval_time_mins=5, random_state=None, config_dict=None, template=None, warm_start=False, memory=None, use_dask=False, periodic_checkpoint_folder=None, early_stop=None, verbosity=0, disable_update_check=False, log_file=None)\n",
      " |      Set up the genetic programming algorithm for pipeline optimization.\n",
      " |      \n",
      " |      Parameters\n",
      " |      ----------\n",
      " |      generations: int or None, optional (default: 100)\n",
      " |          Number of iterations to the run pipeline optimization process.\n",
      " |          It must be a positive number or None. If None, the parameter\n",
      " |          max_time_mins must be defined as the runtime limit.\n",
      " |          Generally, TPOT will work better when you give it more generations (and\n",
      " |          therefore time) to optimize the pipeline. TPOT will evaluate\n",
      " |          POPULATION_SIZE + GENERATIONS x OFFSPRING_SIZE pipelines in total.\n",
      " |      population_size: int, optional (default: 100)\n",
      " |          Number of individuals to retain in the GP population every generation.\n",
      " |          Generally, TPOT will work better when you give it more individuals\n",
      " |          (and therefore time) to optimize the pipeline. TPOT will evaluate\n",
      " |          POPULATION_SIZE + GENERATIONS x OFFSPRING_SIZE pipelines in total.\n",
      " |      offspring_size: int, optional (default: None)\n",
      " |          Number of offspring to produce in each GP generation.\n",
      " |          By default, offspring_size = population_size.\n",
      " |      mutation_rate: float, optional (default: 0.9)\n",
      " |          Mutation rate for the genetic programming algorithm in the range [0.0, 1.0].\n",
      " |          This parameter tells the GP algorithm how many pipelines to apply random\n",
      " |          changes to every generation. We recommend using the default parameter unless\n",
      " |          you understand how the mutation rate affects GP algorithms.\n",
      " |      crossover_rate: float, optional (default: 0.1)\n",
      " |          Crossover rate for the genetic programming algorithm in the range [0.0, 1.0].\n",
      " |          This parameter tells the genetic programming algorithm how many pipelines to\n",
      " |          \"breed\" every generation. We recommend using the default parameter unless you\n",
      " |          understand how the mutation rate affects GP algorithms.\n",
      " |      scoring: string or callable, optional\n",
      " |          Function used to evaluate the quality of a given pipeline for the\n",
      " |          problem. By default, accuracy is used for classification problems and\n",
      " |          mean squared error (MSE) for regression problems.\n",
      " |      \n",
      " |          Offers the same options as sklearn.model_selection.cross_val_score as well as\n",
      " |          a built-in score 'balanced_accuracy'. Classification metrics:\n",
      " |      \n",
      " |          ['accuracy', 'adjusted_rand_score', 'average_precision', 'balanced_accuracy',\n",
      " |          'f1', 'f1_macro', 'f1_micro', 'f1_samples', 'f1_weighted',\n",
      " |          'precision', 'precision_macro', 'precision_micro', 'precision_samples',\n",
      " |          'precision_weighted', 'recall', 'recall_macro', 'recall_micro',\n",
      " |          'recall_samples', 'recall_weighted', 'roc_auc']\n",
      " |      \n",
      " |          Regression metrics:\n",
      " |      \n",
      " |          ['neg_median_absolute_error', 'neg_mean_absolute_error',\n",
      " |          'neg_mean_squared_error', 'r2']\n",
      " |      cv: int or cross-validation generator, optional (default: 5)\n",
      " |          If CV is a number, then it is the number of folds to evaluate each\n",
      " |          pipeline over in k-fold cross-validation during the TPOT optimization\n",
      " |           process. If it is an object then it is an object to be used as a\n",
      " |           cross-validation generator.\n",
      " |      subsample: float, optional (default: 1.0)\n",
      " |          Subsample ratio of the training instance. Setting it to 0.5 means that TPOT\n",
      " |          randomly collects half of training samples for pipeline optimization process.\n",
      " |      n_jobs: int, optional (default: 1)\n",
      " |          Number of CPUs for evaluating pipelines in parallel during the TPOT\n",
      " |          optimization process. Assigning this to -1 will use as many cores as available\n",
      " |          on the computer. For n_jobs below -1, (n_cpus + 1 + n_jobs) are used.\n",
      " |          Thus for n_jobs = -2, all CPUs but one are used.\n",
      " |      max_time_mins: int, optional (default: None)\n",
      " |          How many minutes TPOT has to optimize the pipeline.\n",
      " |          If not None, this setting will allow TPOT to run until max_time_mins minutes\n",
      " |          elapsed and then stop. TPOT will stop earlier if generationsis set and all\n",
      " |          generations are already evaluated.\n",
      " |      max_eval_time_mins: float, optional (default: 5)\n",
      " |          How many minutes TPOT has to optimize a single pipeline.\n",
      " |          Setting this parameter to higher values will allow TPOT to explore more\n",
      " |          complex pipelines, but will also allow TPOT to run longer.\n",
      " |      random_state: int, optional (default: None)\n",
      " |          Random number generator seed for TPOT. Use this parameter to make sure\n",
      " |          that TPOT will give you the same results each time you run it against the\n",
      " |          same data set with that seed.\n",
      " |      config_dict: a Python dictionary or string, optional (default: None)\n",
      " |          Python dictionary:\n",
      " |              A dictionary customizing the operators and parameters that\n",
      " |              TPOT uses in the optimization process.\n",
      " |              For examples, see config_regressor.py and config_classifier.py\n",
      " |          Path for configuration file:\n",
      " |              A path to a configuration file for customizing the operators and parameters that\n",
      " |              TPOT uses in the optimization process.\n",
      " |              For examples, see config_regressor.py and config_classifier.py\n",
      " |          String 'TPOT light':\n",
      " |              TPOT uses a light version of operator configuration dictionary instead of\n",
      " |              the default one.\n",
      " |          String 'TPOT MDR':\n",
      " |              TPOT uses a list of TPOT-MDR operator configuration dictionary instead of\n",
      " |              the default one.\n",
      " |          String 'TPOT sparse':\n",
      " |              TPOT uses a configuration dictionary with a one-hot-encoder and the\n",
      " |              operators normally included in TPOT that also support sparse matrices.\n",
      " |          String 'TPOT NN':\n",
      " |              TPOT uses a configuration dictionary for PyTorch neural network classifiers\n",
      " |              included in `tpot.nn`.\n",
      " |      template: string (default: None)\n",
      " |          Template of predefined pipeline structure. The option is for specifying a desired structure\n",
      " |          for the machine learning pipeline evaluated in TPOT. So far this option only supports\n",
      " |          linear pipeline structure. Each step in the pipeline should be a main class of operators\n",
      " |          (Selector, Transformer, Classifier or Regressor) or a specific operator\n",
      " |          (e.g. SelectPercentile) defined in TPOT operator configuration. If one step is a main class,\n",
      " |          TPOT will randomly assign all subclass operators (subclasses of SelectorMixin,\n",
      " |          TransformerMixin, ClassifierMixin or RegressorMixin in scikit-learn) to that step.\n",
      " |          Steps in the template are delimited by \"-\", e.g. \"SelectPercentile-Transformer-Classifier\".\n",
      " |          By default value of template is None, TPOT generates tree-based pipeline randomly.\n",
      " |      warm_start: bool, optional (default: False)\n",
      " |          Flag indicating whether the TPOT instance will reuse the population from\n",
      " |          previous calls to fit().\n",
      " |      memory: a Memory object or string, optional (default: None)\n",
      " |          If supplied, pipeline will cache each transformer after calling fit. This feature\n",
      " |          is used to avoid computing the fit transformers within a pipeline if the parameters\n",
      " |          and input data are identical with another fitted pipeline during optimization process.\n",
      " |          String 'auto':\n",
      " |              TPOT uses memory caching with a temporary directory and cleans it up upon shutdown.\n",
      " |          String path of a caching directory\n",
      " |              TPOT uses memory caching with the provided directory and TPOT does NOT clean\n",
      " |              the caching directory up upon shutdown. If the directory does not exist, TPOT will\n",
      " |              create it.\n",
      " |          Memory object:\n",
      " |              TPOT uses the instance of joblib.Memory for memory caching,\n",
      " |              and TPOT does NOT clean the caching directory up upon shutdown.\n",
      " |          None:\n",
      " |              TPOT does not use memory caching.\n",
      " |      use_dask: boolean, default False\n",
      " |          Whether to use Dask-ML's pipeline optimizations. This avoid re-fitting\n",
      " |          the same estimator on the same split of data multiple times. It\n",
      " |          will also provide more detailed diagnostics when using Dask's\n",
      " |          distributed scheduler.\n",
      " |      \n",
      " |          See `avoid repeated work <https://dask-ml.readthedocs.io/en/latest/hyper-parameter-search.html#avoid-repeated-work>`__\n",
      " |          for more details.\n",
      " |      periodic_checkpoint_folder: path string, optional (default: None)\n",
      " |          If supplied, a folder in which tpot will periodically save pipelines in pareto front so far while optimizing.\n",
      " |          Currently once per generation but not more often than once per 30 seconds.\n",
      " |          Useful in multiple cases:\n",
      " |              Sudden death before tpot could save optimized pipeline\n",
      " |              Track its progress\n",
      " |              Grab pipelines while it's still optimizing\n",
      " |      early_stop: int or None (default: None)\n",
      " |          How many generations TPOT checks whether there is no improvement in optimization process.\n",
      " |          End optimization process if there is no improvement in the set number of generations.\n",
      " |      verbosity: int, optional (default: 0)\n",
      " |          How much information TPOT communicates while it's running.\n",
      " |          0 = none, 1 = minimal, 2 = high, 3 = all.\n",
      " |          A setting of 2 or higher will add a progress bar during the optimization procedure.\n",
      " |      disable_update_check: bool, optional (default: False)\n",
      " |          Flag indicating whether the TPOT version checker should be disabled.\n",
      " |      log_file: string, io.TextIOWrapper or io.StringIO, optional (defaul: sys.stdout)\n",
      " |          Save progress content to a file.\n",
      " |      \n",
      " |      Returns\n",
      " |      -------\n",
      " |      None\n",
      " |  \n",
      " |  clean_pipeline_string(self, individual)\n",
      " |      Provide a string of the individual without the parameter prefixes.\n",
      " |      \n",
      " |      Parameters\n",
      " |      ----------\n",
      " |      individual: individual\n",
      " |          Individual which should be represented by a pretty string\n",
      " |      \n",
      " |      Returns\n",
      " |      -------\n",
      " |      A string like str(individual), but with parameter prefixes removed.\n",
      " |  \n",
      " |  export(self, output_file_name='', data_file_path='')\n",
      " |      Export the optimized pipeline as Python code.\n",
      " |      \n",
      " |      Parameters\n",
      " |      ----------\n",
      " |      output_file_name: string (default: '')\n",
      " |          String containing the path and file name of the desired output file. If left empty, writing to file will be skipped.\n",
      " |      data_file_path: string (default: '')\n",
      " |          By default, the path of input dataset is 'PATH/TO/DATA/FILE' by default.\n",
      " |          If data_file_path is another string, the path will be replaced.\n",
      " |      \n",
      " |      Returns\n",
      " |      -------\n",
      " |      to_write: str\n",
      " |          The whole pipeline text as a string.\n",
      " |  \n",
      " |  fit(self, features, target, sample_weight=None, groups=None)\n",
      " |      Fit an optimized machine learning pipeline.\n",
      " |      \n",
      " |      Uses genetic programming to optimize a machine learning pipeline that\n",
      " |      maximizes score on the provided features and target. Performs internal\n",
      " |      k-fold cross-validaton to avoid overfitting on the provided data. The\n",
      " |      best pipeline is then trained on the entire set of provided samples.\n",
      " |      \n",
      " |      Parameters\n",
      " |      ----------\n",
      " |      features: array-like {n_samples, n_features}\n",
      " |          Feature matrix\n",
      " |      \n",
      " |          TPOT and all scikit-learn algorithms assume that the features will be numerical\n",
      " |          and there will be no missing values. As such, when a feature matrix is provided\n",
      " |          to TPOT, all missing values will automatically be replaced (i.e., imputed) using\n",
      " |          median value imputation.\n",
      " |      \n",
      " |          If you wish to use a different imputation strategy than median imputation, please\n",
      " |          make sure to apply imputation to your feature set prior to passing it to TPOT.\n",
      " |      target: array-like {n_samples}\n",
      " |          List of class labels for prediction\n",
      " |      sample_weight: array-like {n_samples}, optional\n",
      " |          Per-sample weights. Higher weights indicate more importance. If specified,\n",
      " |          sample_weight will be passed to any pipeline element whose fit() function accepts\n",
      " |          a sample_weight argument. By default, using sample_weight does not affect tpot's\n",
      " |          scoring functions, which determine preferences between pipelines.\n",
      " |      groups: array-like, with shape {n_samples, }, optional\n",
      " |          Group labels for the samples used when performing cross-validation.\n",
      " |          This parameter should only be used in conjunction with sklearn's Group cross-validation\n",
      " |          functions, such as sklearn.model_selection.GroupKFold\n",
      " |      \n",
      " |      Returns\n",
      " |      -------\n",
      " |      self: object\n",
      " |          Returns a copy of the fitted TPOT object\n",
      " |  \n",
      " |  fit_predict(self, features, target, sample_weight=None, groups=None)\n",
      " |      Call fit and predict in sequence.\n",
      " |      \n",
      " |      Parameters\n",
      " |      ----------\n",
      " |      features: array-like {n_samples, n_features}\n",
      " |          Feature matrix\n",
      " |      target: array-like {n_samples}\n",
      " |          List of class labels for prediction\n",
      " |      sample_weight: array-like {n_samples}, optional\n",
      " |          Per-sample weights. Higher weights force TPOT to put more emphasis on those points\n",
      " |      groups: array-like, with shape {n_samples, }, optional\n",
      " |          Group labels for the samples used when performing cross-validation.\n",
      " |          This parameter should only be used in conjunction with sklearn's Group cross-validation\n",
      " |          functions, such as sklearn.model_selection.GroupKFold\n",
      " |      \n",
      " |      Returns\n",
      " |      ----------\n",
      " |      array-like: {n_samples}\n",
      " |          Predicted target for the provided features\n",
      " |  \n",
      " |  predict(self, features)\n",
      " |      Use the optimized pipeline to predict the target for a feature set.\n",
      " |      \n",
      " |      Parameters\n",
      " |      ----------\n",
      " |      features: array-like {n_samples, n_features}\n",
      " |          Feature matrix\n",
      " |      \n",
      " |      Returns\n",
      " |      ----------\n",
      " |      array-like: {n_samples}\n",
      " |          Predicted target for the samples in the feature matrix\n",
      " |  \n",
      " |  predict_proba(self, features)\n",
      " |      Use the optimized pipeline to estimate the class probabilities for a feature set.\n",
      " |      \n",
      " |      Parameters\n",
      " |      ----------\n",
      " |      features: array-like {n_samples, n_features}\n",
      " |          Feature matrix of the testing set\n",
      " |      \n",
      " |      Returns\n",
      " |      -------\n",
      " |      array-like: {n_samples, n_target}\n",
      " |          The class probabilities of the input samples\n",
      " |  \n",
      " |  score(self, testing_features, testing_target)\n",
      " |      Return the score on the given testing data using the user-specified scoring function.\n",
      " |      \n",
      " |      Parameters\n",
      " |      ----------\n",
      " |      testing_features: array-like {n_samples, n_features}\n",
      " |          Feature matrix of the testing set\n",
      " |      testing_target: array-like {n_samples}\n",
      " |          List of class labels for prediction in the testing set\n",
      " |      \n",
      " |      Returns\n",
      " |      -------\n",
      " |      accuracy_score: float\n",
      " |          The estimated test set accuracy\n",
      " |  \n",
      " |  ----------------------------------------------------------------------\n",
      " |  Methods inherited from sklearn.base.BaseEstimator:\n",
      " |  \n",
      " |  __getstate__(self)\n",
      " |  \n",
      " |  __repr__(self, N_CHAR_MAX=700)\n",
      " |      Return repr(self).\n",
      " |  \n",
      " |  __setstate__(self, state)\n",
      " |  \n",
      " |  get_params(self, deep=True)\n",
      " |      Get parameters for this estimator.\n",
      " |      \n",
      " |      Parameters\n",
      " |      ----------\n",
      " |      deep : bool, default=True\n",
      " |          If True, will return the parameters for this estimator and\n",
      " |          contained subobjects that are estimators.\n",
      " |      \n",
      " |      Returns\n",
      " |      -------\n",
      " |      params : dict\n",
      " |          Parameter names mapped to their values.\n",
      " |  \n",
      " |  set_params(self, **params)\n",
      " |      Set the parameters of this estimator.\n",
      " |      \n",
      " |      The method works on simple estimators as well as on nested objects\n",
      " |      (such as :class:`~sklearn.pipeline.Pipeline`). The latter have\n",
      " |      parameters of the form ``<component>__<parameter>`` so that it's\n",
      " |      possible to update each component of a nested object.\n",
      " |      \n",
      " |      Parameters\n",
      " |      ----------\n",
      " |      **params : dict\n",
      " |          Estimator parameters.\n",
      " |      \n",
      " |      Returns\n",
      " |      -------\n",
      " |      self : estimator instance\n",
      " |          Estimator instance.\n",
      " |  \n",
      " |  ----------------------------------------------------------------------\n",
      " |  Data descriptors inherited from sklearn.base.BaseEstimator:\n",
      " |  \n",
      " |  __dict__\n",
      " |      dictionary for instance variables (if defined)\n",
      " |  \n",
      " |  __weakref__\n",
      " |      list of weak references to the object (if defined)\n",
      "\n"
     ]
    }
   ],
   "source": [
    "help(TPOTClassifier)"
   ]
  },
  {
   "cell_type": "markdown",
   "metadata": {
    "id": "8cHV7OoMwse1"
   },
   "source": [
    "<a id='ml_pipeline_search'></a>"
   ]
  },
  {
   "cell_type": "markdown",
   "metadata": {
    "id": "YNJ9AL6ywxLE"
   },
   "source": [
    "### ML pipeline search"
   ]
  },
  {
   "cell_type": "markdown",
   "metadata": {
    "id": "snJbeMV73KaD"
   },
   "source": [
    "#### Setting the search"
   ]
  },
  {
   "cell_type": "code",
   "execution_count": 23,
   "metadata": {
    "executionInfo": {
     "elapsed": 15,
     "status": "ok",
     "timestamp": 1631019732222,
     "user": {
      "displayName": "Matheus Rosso",
      "photoUrl": "",
      "userId": "07497572953789637511"
     },
     "user_tz": 180
    },
    "id": "2GDx0ElMAjen"
   },
   "outputs": [],
   "source": [
    "# Creating the AutoML object:\n",
    "model = TPOTClassifier(\n",
    "    # Search complexity parameters:\n",
    "    max_time_mins=max_time_mins, max_eval_time_mins=max_eval_time_mins,\n",
    "\n",
    "    # Estimation parameters:\n",
    "    cv=cv, scoring=scoring, subsample=subsample,\n",
    "    \n",
    "    # Computation parameters:\n",
    "    n_jobs=n_jobs, random_state=1, verbosity=2\n",
    ")"
   ]
  },
  {
   "cell_type": "markdown",
   "metadata": {
    "id": "pEwrENwE3O9I"
   },
   "source": [
    "#### Running the search"
   ]
  },
  {
   "cell_type": "code",
   "execution_count": 24,
   "metadata": {
    "colab": {
     "base_uri": "https://localhost:8080/",
     "height": 406,
     "referenced_widgets": [
      "c0fee77f09154019b9f397d4dd35d5b9",
      "da24d173798548fa934ef477760cf8e3",
      "fc0bfe39149645fdac48b18aa69b4667",
      "91dc53554db042d29e1e064a10af9553",
      "428bb92d4e074d0893699c17caced27d",
      "3e22a143738e4ac8b8d27264a6d92363",
      "2a92ec0dc2604693a9a21cb05fb672be",
      "dbae55fce53242f88d5b89eb2a42ca07",
      "81d292668fcc4363892a55f228803c7f",
      "fdaa84aae8c54e7780d4d166a6759dbb",
      "c4f37e829e7b4c22bfba75280eeeae84"
     ]
    },
    "executionInfo": {
     "elapsed": 206721,
     "status": "ok",
     "timestamp": 1631042009833,
     "user": {
      "displayName": "Matheus Rosso",
      "photoUrl": "",
      "userId": "07497572953789637511"
     },
     "user_tz": 180
    },
    "id": "4uexZikOpOIg",
    "outputId": "14cf39f9-b625-4984-db1f-d03125e5b7dc"
   },
   "outputs": [
    {
     "metadata": {
      "tags": null
     },
     "name": "stdout",
     "output_type": "stream",
     "text": [
      "Imputing missing values in feature set\n"
     ]
    },
    {
     "data": {
      "application/vnd.jupyter.widget-view+json": {
       "model_id": "c0fee77f09154019b9f397d4dd35d5b9",
       "version_major": 2,
       "version_minor": 0
      },
      "text/plain": [
       "Optimization Progress:   0%|          | 0/100 [00:00<?, ?pipeline/s]"
      ]
     },
     "metadata": {},
     "output_type": "display_data"
    },
    {
     "name": "stdout",
     "output_type": "stream",
     "text": [
      "\n",
      "Generation 1 - Current best internal CV score: 0.900742163718933\n",
      "\n",
      "Generation 2 - Current best internal CV score: 0.900742163718933\n",
      "\n",
      "Generation 3 - Current best internal CV score: 0.9011348957130579\n",
      "\n",
      "370.02 minutes have elapsed. TPOT will close down.\n",
      "TPOT closed during evaluation in one generation.\n",
      "WARNING: TPOT may not provide a good pipeline if TPOT is stopped/interrupted in a early generation.\n",
      "\n",
      "\n",
      "TPOT closed prematurely. Will use the current best pipeline.\n",
      "\n",
      "Best pipeline: XGBClassifier(input_matrix, learning_rate=0.1, max_depth=9, min_child_weight=11, n_estimators=100, n_jobs=1, subsample=1.0, verbosity=0)\n",
      "------------------------------------\n",
      "\u001b[1mRunning time:\u001b[0m 370.68 minutes.\n",
      "Start time: 2021-09-07, 13:02:47\n",
      "End time: 2021-09-07, 19:13:28\n",
      "------------------------------------\n"
     ]
    }
   ],
   "source": [
    "start_time = datetime.now()\n",
    "\n",
    "# Running the search:\n",
    "model.fit(df_train.drop(drop_vars, axis=1), df_train['class'])\n",
    "\n",
    "# Exporting the ML pipeline chosen after the search:\n",
    "model.export(f'../Datasets/Outcomes/tpot/best_pipeline_{estimation_id}.py')\n",
    "\n",
    "# Total elapsed time:\n",
    "end_time = datetime.now()\n",
    "search_time = running_time(start_time=start_time, end_time=end_time)"
   ]
  },
  {
   "cell_type": "markdown",
   "metadata": {
    "id": "ZT_4HLS09bTE"
   },
   "source": [
    "### Assessing the outcomes"
   ]
  },
  {
   "cell_type": "markdown",
   "metadata": {
    "id": "zGp_aIfA9keA"
   },
   "source": [
    "#### ML pipeline"
   ]
  },
  {
   "cell_type": "markdown",
   "metadata": {
    "id": "gq08Gu7WBev5"
   },
   "source": [
    "Constructed pipelines"
   ]
  },
  {
   "cell_type": "code",
   "execution_count": 25,
   "metadata": {
    "colab": {
     "base_uri": "https://localhost:8080/"
    },
    "executionInfo": {
     "elapsed": 103,
     "status": "ok",
     "timestamp": 1631042009836,
     "user": {
      "displayName": "Matheus Rosso",
      "photoUrl": "",
      "userId": "07497572953789637511"
     },
     "user_tz": 180
    },
    "id": "eBRCtBqKGhFw",
    "outputId": "4cb6b6b0-ab51-4dc4-d3ac-f0ab25e225b8"
   },
   "outputs": [
    {
     "name": "stdout",
     "output_type": "stream",
     "text": [
      "Number of tested pipelines: 471.\n"
     ]
    }
   ],
   "source": [
    "# Dictionary with the pipelines tested during the search:\n",
    "ml_pipelines = model.evaluated_individuals_\n",
    "\n",
    "print(f'Number of tested pipelines: {len(ml_pipelines)}.')"
   ]
  },
  {
   "cell_type": "code",
   "execution_count": 26,
   "metadata": {
    "colab": {
     "base_uri": "https://localhost:8080/"
    },
    "executionInfo": {
     "elapsed": 97,
     "status": "ok",
     "timestamp": 1631042009841,
     "user": {
      "displayName": "Matheus Rosso",
      "photoUrl": "",
      "userId": "07497572953789637511"
     },
     "user_tz": 180
    },
    "id": "-Mp4YXLQEHdS",
    "outputId": "9907edeb-f057-4e76-ad16-b3c2b7bdbc49"
   },
   "outputs": [
    {
     "name": "stdout",
     "output_type": "stream",
     "text": [
      "Number of Pareto-efficient pipelines: 1.\n"
     ]
    }
   ],
   "source": [
    "# Dictionary with the Pareto-efficient pipelines tested during the search:\n",
    "efficient_ml_pipelines = model.pareto_front_fitted_pipelines_\n",
    "\n",
    "print(f'Number of Pareto-efficient pipelines: {len(efficient_ml_pipelines)}.')"
   ]
  },
  {
   "cell_type": "markdown",
   "metadata": {
    "id": "jS6EkiKGW4yO"
   },
   "source": [
    "Final pipeline"
   ]
  },
  {
   "cell_type": "code",
   "execution_count": 27,
   "metadata": {
    "colab": {
     "base_uri": "https://localhost:8080/"
    },
    "executionInfo": {
     "elapsed": 18,
     "status": "ok",
     "timestamp": 1631042009843,
     "user": {
      "displayName": "Matheus Rosso",
      "photoUrl": "",
      "userId": "07497572953789637511"
     },
     "user_tz": 180
    },
    "id": "rLijKyAwERnv",
    "outputId": "0633b0f7-604b-4c56-edaf-1834f1111aa9"
   },
   "outputs": [
    {
     "name": "stdout",
     "output_type": "stream",
     "text": [
      "Pipeline(steps=[('xgbclassifier',\n",
      "                 XGBClassifier(base_score=0.5, booster='gbtree',\n",
      "                               colsample_bylevel=1, colsample_bynode=1,\n",
      "                               colsample_bytree=1, gamma=0, gpu_id=-1,\n",
      "                               importance_type='gain',\n",
      "                               interaction_constraints='', learning_rate=0.1,\n",
      "                               max_delta_step=0, max_depth=9,\n",
      "                               min_child_weight=11, missing=nan,\n",
      "                               monotone_constraints='()', n_estimators=100,\n",
      "                               n_jobs=1, num_parallel_tree=1, random_state=1,\n",
      "                               reg_alpha=0, reg_lambda=1, scale_pos_weight=1,\n",
      "                               subsample=1.0, tree_method='exact',\n",
      "                               validate_parameters=1, verbosity=0))])\n"
     ]
    }
   ],
   "source": [
    "# Selected ML pipeline:\n",
    "print(model.fitted_pipeline_)"
   ]
  },
  {
   "cell_type": "code",
   "execution_count": 28,
   "metadata": {
    "colab": {
     "base_uri": "https://localhost:8080/"
    },
    "executionInfo": {
     "elapsed": 52,
     "status": "ok",
     "timestamp": 1631042010499,
     "user": {
      "displayName": "Matheus Rosso",
      "photoUrl": "",
      "userId": "07497572953789637511"
     },
     "user_tz": 180
    },
    "id": "ra_1RZuQEQLn",
    "outputId": "6e5088b9-cbd2-4533-d383-c3581a2fe418"
   },
   "outputs": [
    {
     "name": "stdout",
     "output_type": "stream",
     "text": [
      "\u001b[1mBest ML pipeline:\u001b[0m\n",
      "import numpy as np\n",
      "import pandas as pd\n",
      "from sklearn.model_selection import train_test_split\n",
      "from sklearn.pipeline import make_pipeline\n",
      "from sklearn.preprocessing import MaxAbsScaler\n",
      "from xgboost import XGBClassifier\n",
      "from sklearn.impute import SimpleImputer\n",
      "from tpot.export_utils import set_param_recursive\n",
      "\n",
      "# NOTE: Make sure that the outcome column is labeled 'target' in the data file\n",
      "tpot_data = pd.read_csv('PATH/TO/DATA/FILE', sep='COLUMN_SEPARATOR', dtype=np.float64)\n",
      "features = tpot_data.drop('target', axis=1)\n",
      "training_features, testing_features, training_target, testing_target = \\\n",
      "            train_test_split(features, tpot_data['target'], random_state=1)\n",
      "\n",
      "imputer = SimpleImputer(strategy=\"median\")\n",
      "imputer.fit(training_features)\n",
      "training_features = imputer.transform(training_features)\n",
      "testing_features = imputer.transform(testing_features)\n",
      "\n",
      "# Average CV score on the training set was: 0.9011021228183301\n",
      "exported_pipeline = make_pipeline(\n",
      "    MaxAbsScaler(),\n",
      "    XGBClassifier(learning_rate=0.1, max_depth=6, min_child_weight=11, n_estimators=100, n_jobs=1, subsample=1.0, verbosity=0)\n",
      ")\n",
      "# Fix random state for all the steps in exported pipeline\n",
      "set_param_recursive(exported_pipeline.steps, 'random_state', 1)\n",
      "\n",
      "exported_pipeline.fit(training_features, training_target)\n",
      "results = exported_pipeline.predict(testing_features)\n",
      "\n"
     ]
    }
   ],
   "source": [
    "# Python module with the selected pipeline:\n",
    "with open('../Datasets/Outcomes/tpot/best_pipeline.py', 'r') as file:\n",
    "  lines = file.readlines()\n",
    "\n",
    "print('\\033[1mBest ML pipeline:\\033[0m')\n",
    "print(''.join(lines))"
   ]
  },
  {
   "cell_type": "markdown",
   "metadata": {
    "id": "hqrHl9YN-mXj"
   },
   "source": [
    "#### Model evaluation"
   ]
  },
  {
   "cell_type": "code",
   "execution_count": 29,
   "metadata": {
    "colab": {
     "base_uri": "https://localhost:8080/"
    },
    "executionInfo": {
     "elapsed": 48,
     "status": "ok",
     "timestamp": 1631042010506,
     "user": {
      "displayName": "Matheus Rosso",
      "photoUrl": "",
      "userId": "07497572953789637511"
     },
     "user_tz": 180
    },
    "id": "Vko7xan3Iaus",
    "outputId": "7f7df5ed-f04a-4531-9860-9f8f599d8a6e"
   },
   "outputs": [
    {
     "name": "stdout",
     "output_type": "stream",
     "text": [
      "Imputing missing values in feature set\n",
      "Test ROC-AUC: 0.8985.\n",
      "Test average-precision score: 0.9554.\n",
      "Test Brier score: 0.1207.\n",
      "Test accuracy: 0.8116.\n",
      "Test MCC: 0.5831.\n"
     ]
    }
   ],
   "source": [
    "# Predictions for hold-out data:\n",
    "y_hat = [p[1] for p in model.predict_proba(df_test.drop(drop_vars, axis=1))]\n",
    "\n",
    "# Performance metrics of the best model:\n",
    "test_roc_auc = roc_auc_score(df_test['class'], y_hat)\n",
    "\n",
    "test_avg_prec = average_precision_score(df_test['class'], y_hat)\n",
    "test_brier = brier_score_loss(df_test['class'], y_hat)\n",
    "test_acc = accuracy_score(df_test['class'], [1 if p > 0.5 else 0 for p in y_hat])\n",
    "test_mcc = matthews_corrcoef(df_test['class'], [1 if p > 0.5 else 0 for p in y_hat])\n",
    "\n",
    "print(f'Test ROC-AUC: {test_roc_auc:.4f}.')\n",
    "print(f'Test average-precision score: {test_avg_prec:.4f}.')\n",
    "print(f'Test Brier score: {test_brier:.4f}.')\n",
    "print(f'Test accuracy: {test_acc:.4f}.')\n",
    "print(f'Test MCC: {test_mcc:.4f}.')"
   ]
  },
  {
   "cell_type": "code",
   "execution_count": 30,
   "metadata": {
    "colab": {
     "base_uri": "https://localhost:8080/"
    },
    "executionInfo": {
     "elapsed": 30,
     "status": "ok",
     "timestamp": 1631042010508,
     "user": {
      "displayName": "Matheus Rosso",
      "photoUrl": "",
      "userId": "07497572953789637511"
     },
     "user_tz": 180
    },
    "id": "vq-deWsrBbW8",
    "outputId": "5e56c815-63de-4a1f-be64-b45baec7e3ab"
   },
   "outputs": [
    {
     "name": "stdout",
     "output_type": "stream",
     "text": [
      "Imputing missing values in feature set\n",
      "roc_auc = 0.8985\n"
     ]
    }
   ],
   "source": [
    "# More direct presentation of metric evaluated on test set:\n",
    "print(f'{model.scoring} = {model.score(df_test.drop(drop_vars, axis=1), df_test[\"class\"]):.4f}')"
   ]
  },
  {
   "cell_type": "markdown",
   "metadata": {
    "id": "gRohECvisB_c"
   },
   "source": [
    "#### Model assessment"
   ]
  },
  {
   "cell_type": "code",
   "execution_count": 31,
   "metadata": {
    "executionInfo": {
     "elapsed": 17,
     "status": "ok",
     "timestamp": 1631042010513,
     "user": {
      "displayName": "Matheus Rosso",
      "photoUrl": "",
      "userId": "07497572953789637511"
     },
     "user_tz": 180
    },
    "id": "bLza7WcwsDKJ"
   },
   "outputs": [],
   "source": [
    "model_assess = {\n",
    "    \"estimation_id\": str(estimation_id),\n",
    "    \"autoML\": \"tpot\",\n",
    "    \"parameters\": {\n",
    "      \"search_complexity\": {\n",
    "        \"max_time_mins\": max_time_mins, \"max_eval_time_mins\": max_eval_time_mins\n",
    "      },\n",
    "      \"estimation\": {\n",
    "        \"cv\": cv, \"scoring\": scoring, \"subsample\": subsample\n",
    "      },\n",
    "      \"computation\": {\n",
    "        \"n_jobs\": n_jobs\n",
    "      }\n",
    "    },\n",
    "    \"running_time\": search_time,\n",
    "    \"performance_metrics\": {\n",
    "        \"test_roc_auc\": test_roc_auc, \"test_avg_prec\": test_avg_prec, \"test_brier\": test_brier, \"test_acc\": test_acc, \"test_mcc\": test_mcc\n",
    "    }\n",
    "}"
   ]
  },
  {
   "cell_type": "markdown",
   "metadata": {
    "id": "WxbRgFSobhNx"
   },
   "source": [
    "### Exporting the outcomes"
   ]
  },
  {
   "cell_type": "code",
   "execution_count": 32,
   "metadata": {
    "executionInfo": {
     "elapsed": 18,
     "status": "ok",
     "timestamp": 1631042010515,
     "user": {
      "displayName": "Matheus Rosso",
      "photoUrl": "",
      "userId": "07497572953789637511"
     },
     "user_tz": 180
    },
    "id": "lSuxuDoKD9w5"
   },
   "outputs": [],
   "source": [
    "if export:\n",
    "  # Dictionary with the pipelines tested during the search:\n",
    "  with open(f'../Datasets/Outcomes/tpot/ml_pipelines_{estimation_id}.json', 'w') as json_file:\n",
    "    json.dump(ml_pipelines, json_file, indent=2)\n",
    "\n",
    "  # Selected ML pipelines:\n",
    "  with open(f'../Datasets/Outcomes/tpot/selected_pipeline_{estimation_id}.json', 'w') as json_file:\n",
    "    json.dump({'selected_pipeline': str(model.fitted_pipeline_)}, json_file, indent=2)\n",
    "\n",
    "  # ML pipeline:\n",
    "  # pickle.dump(model, open(f'../Datasets/Outcomes/tpot/model_{estimation_id}.pickle', 'wb'))\n",
    "\n",
    "  # Model assessment:\n",
    "  with open(f'../Datasets/Outcomes/tpot/model_assess_{estimation_id}.json', 'w') as json_file:\n",
    "    json.dump(model_assess, json_file, indent=2)"
   ]
  },
  {
   "cell_type": "code",
   "execution_count": null,
   "metadata": {
    "id": "I4hyfRVgKhbX"
   },
   "outputs": [],
   "source": []
  }
 ],
 "metadata": {
  "colab": {
   "collapsed_sections": [],
   "name": "AutoML - Empirical Tests - TPOT.ipynb",
   "provenance": []
  },
  "kernelspec": {
   "display_name": "Python 3",
   "language": "python",
   "name": "python3"
  },
  "language_info": {
   "codemirror_mode": {
    "name": "ipython",
    "version": 3
   },
   "file_extension": ".py",
   "mimetype": "text/x-python",
   "name": "python",
   "nbconvert_exporter": "python",
   "pygments_lexer": "ipython3",
   "version": "3.7.3"
  },
  "widgets": {
   "application/vnd.jupyter.widget-state+json": {
    "2a92ec0dc2604693a9a21cb05fb672be": {
     "model_module": "@jupyter-widgets/base",
     "model_module_version": "1.2.0",
     "model_name": "LayoutModel",
     "state": {
      "_model_module": "@jupyter-widgets/base",
      "_model_module_version": "1.2.0",
      "_model_name": "LayoutModel",
      "_view_count": null,
      "_view_module": "@jupyter-widgets/base",
      "_view_module_version": "1.2.0",
      "_view_name": "LayoutView",
      "align_content": null,
      "align_items": null,
      "align_self": null,
      "border": null,
      "bottom": null,
      "display": null,
      "flex": null,
      "flex_flow": null,
      "grid_area": null,
      "grid_auto_columns": null,
      "grid_auto_flow": null,
      "grid_auto_rows": null,
      "grid_column": null,
      "grid_gap": null,
      "grid_row": null,
      "grid_template_areas": null,
      "grid_template_columns": null,
      "grid_template_rows": null,
      "height": null,
      "justify_content": null,
      "justify_items": null,
      "left": null,
      "margin": null,
      "max_height": null,
      "max_width": null,
      "min_height": null,
      "min_width": null,
      "object_fit": null,
      "object_position": null,
      "order": null,
      "overflow": null,
      "overflow_x": null,
      "overflow_y": null,
      "padding": null,
      "right": null,
      "top": null,
      "visibility": null,
      "width": null
     }
    },
    "3e22a143738e4ac8b8d27264a6d92363": {
     "model_module": "@jupyter-widgets/controls",
     "model_module_version": "1.5.0",
     "model_name": "DescriptionStyleModel",
     "state": {
      "_model_module": "@jupyter-widgets/controls",
      "_model_module_version": "1.5.0",
      "_model_name": "DescriptionStyleModel",
      "_view_count": null,
      "_view_module": "@jupyter-widgets/base",
      "_view_module_version": "1.2.0",
      "_view_name": "StyleView",
      "description_width": ""
     }
    },
    "428bb92d4e074d0893699c17caced27d": {
     "model_module": "@jupyter-widgets/controls",
     "model_module_version": "1.5.0",
     "model_name": "HTMLModel",
     "state": {
      "_dom_classes": [],
      "_model_module": "@jupyter-widgets/controls",
      "_model_module_version": "1.5.0",
      "_model_name": "HTMLModel",
      "_view_count": null,
      "_view_module": "@jupyter-widgets/controls",
      "_view_module_version": "1.5.0",
      "_view_name": "HTMLView",
      "description": "",
      "description_tooltip": null,
      "layout": "IPY_MODEL_c4f37e829e7b4c22bfba75280eeeae84",
      "placeholder": "​",
      "style": "IPY_MODEL_fdaa84aae8c54e7780d4d166a6759dbb",
      "value": " 491/500 [6:09:53&lt;26:43, 178.21s/pipeline]"
     }
    },
    "81d292668fcc4363892a55f228803c7f": {
     "model_module": "@jupyter-widgets/base",
     "model_module_version": "1.2.0",
     "model_name": "LayoutModel",
     "state": {
      "_model_module": "@jupyter-widgets/base",
      "_model_module_version": "1.2.0",
      "_model_name": "LayoutModel",
      "_view_count": null,
      "_view_module": "@jupyter-widgets/base",
      "_view_module_version": "1.2.0",
      "_view_name": "LayoutView",
      "align_content": null,
      "align_items": null,
      "align_self": null,
      "border": null,
      "bottom": null,
      "display": null,
      "flex": null,
      "flex_flow": null,
      "grid_area": null,
      "grid_auto_columns": null,
      "grid_auto_flow": null,
      "grid_auto_rows": null,
      "grid_column": null,
      "grid_gap": null,
      "grid_row": null,
      "grid_template_areas": null,
      "grid_template_columns": null,
      "grid_template_rows": null,
      "height": null,
      "justify_content": null,
      "justify_items": null,
      "left": null,
      "margin": null,
      "max_height": null,
      "max_width": null,
      "min_height": null,
      "min_width": null,
      "object_fit": null,
      "object_position": null,
      "order": null,
      "overflow": null,
      "overflow_x": null,
      "overflow_y": null,
      "padding": null,
      "right": null,
      "top": null,
      "visibility": null,
      "width": null
     }
    },
    "91dc53554db042d29e1e064a10af9553": {
     "model_module": "@jupyter-widgets/controls",
     "model_module_version": "1.5.0",
     "model_name": "FloatProgressModel",
     "state": {
      "_dom_classes": [],
      "_model_module": "@jupyter-widgets/controls",
      "_model_module_version": "1.5.0",
      "_model_name": "FloatProgressModel",
      "_view_count": null,
      "_view_module": "@jupyter-widgets/controls",
      "_view_module_version": "1.5.0",
      "_view_name": "ProgressView",
      "bar_style": "danger",
      "description": "",
      "description_tooltip": null,
      "layout": "IPY_MODEL_81d292668fcc4363892a55f228803c7f",
      "max": 100,
      "min": 0,
      "orientation": "horizontal",
      "style": "IPY_MODEL_dbae55fce53242f88d5b89eb2a42ca07",
      "value": 100
     }
    },
    "c0fee77f09154019b9f397d4dd35d5b9": {
     "model_module": "@jupyter-widgets/controls",
     "model_module_version": "1.5.0",
     "model_name": "HBoxModel",
     "state": {
      "_dom_classes": [],
      "_model_module": "@jupyter-widgets/controls",
      "_model_module_version": "1.5.0",
      "_model_name": "HBoxModel",
      "_view_count": null,
      "_view_module": "@jupyter-widgets/controls",
      "_view_module_version": "1.5.0",
      "_view_name": "HBoxView",
      "box_style": "",
      "children": [
       "IPY_MODEL_fc0bfe39149645fdac48b18aa69b4667",
       "IPY_MODEL_91dc53554db042d29e1e064a10af9553",
       "IPY_MODEL_428bb92d4e074d0893699c17caced27d"
      ],
      "layout": "IPY_MODEL_da24d173798548fa934ef477760cf8e3"
     }
    },
    "c4f37e829e7b4c22bfba75280eeeae84": {
     "model_module": "@jupyter-widgets/base",
     "model_module_version": "1.2.0",
     "model_name": "LayoutModel",
     "state": {
      "_model_module": "@jupyter-widgets/base",
      "_model_module_version": "1.2.0",
      "_model_name": "LayoutModel",
      "_view_count": null,
      "_view_module": "@jupyter-widgets/base",
      "_view_module_version": "1.2.0",
      "_view_name": "LayoutView",
      "align_content": null,
      "align_items": null,
      "align_self": null,
      "border": null,
      "bottom": null,
      "display": null,
      "flex": null,
      "flex_flow": null,
      "grid_area": null,
      "grid_auto_columns": null,
      "grid_auto_flow": null,
      "grid_auto_rows": null,
      "grid_column": null,
      "grid_gap": null,
      "grid_row": null,
      "grid_template_areas": null,
      "grid_template_columns": null,
      "grid_template_rows": null,
      "height": null,
      "justify_content": null,
      "justify_items": null,
      "left": null,
      "margin": null,
      "max_height": null,
      "max_width": null,
      "min_height": null,
      "min_width": null,
      "object_fit": null,
      "object_position": null,
      "order": null,
      "overflow": null,
      "overflow_x": null,
      "overflow_y": null,
      "padding": null,
      "right": null,
      "top": null,
      "visibility": null,
      "width": null
     }
    },
    "da24d173798548fa934ef477760cf8e3": {
     "model_module": "@jupyter-widgets/base",
     "model_module_version": "1.2.0",
     "model_name": "LayoutModel",
     "state": {
      "_model_module": "@jupyter-widgets/base",
      "_model_module_version": "1.2.0",
      "_model_name": "LayoutModel",
      "_view_count": null,
      "_view_module": "@jupyter-widgets/base",
      "_view_module_version": "1.2.0",
      "_view_name": "LayoutView",
      "align_content": null,
      "align_items": null,
      "align_self": null,
      "border": null,
      "bottom": null,
      "display": null,
      "flex": null,
      "flex_flow": null,
      "grid_area": null,
      "grid_auto_columns": null,
      "grid_auto_flow": null,
      "grid_auto_rows": null,
      "grid_column": null,
      "grid_gap": null,
      "grid_row": null,
      "grid_template_areas": null,
      "grid_template_columns": null,
      "grid_template_rows": null,
      "height": null,
      "justify_content": null,
      "justify_items": null,
      "left": null,
      "margin": null,
      "max_height": null,
      "max_width": null,
      "min_height": null,
      "min_width": null,
      "object_fit": null,
      "object_position": null,
      "order": null,
      "overflow": null,
      "overflow_x": null,
      "overflow_y": null,
      "padding": null,
      "right": null,
      "top": null,
      "visibility": null,
      "width": null
     }
    },
    "dbae55fce53242f88d5b89eb2a42ca07": {
     "model_module": "@jupyter-widgets/controls",
     "model_module_version": "1.5.0",
     "model_name": "ProgressStyleModel",
     "state": {
      "_model_module": "@jupyter-widgets/controls",
      "_model_module_version": "1.5.0",
      "_model_name": "ProgressStyleModel",
      "_view_count": null,
      "_view_module": "@jupyter-widgets/base",
      "_view_module_version": "1.2.0",
      "_view_name": "StyleView",
      "bar_color": null,
      "description_width": ""
     }
    },
    "fc0bfe39149645fdac48b18aa69b4667": {
     "model_module": "@jupyter-widgets/controls",
     "model_module_version": "1.5.0",
     "model_name": "HTMLModel",
     "state": {
      "_dom_classes": [],
      "_model_module": "@jupyter-widgets/controls",
      "_model_module_version": "1.5.0",
      "_model_name": "HTMLModel",
      "_view_count": null,
      "_view_module": "@jupyter-widgets/controls",
      "_view_module_version": "1.5.0",
      "_view_name": "HTMLView",
      "description": "",
      "description_tooltip": null,
      "layout": "IPY_MODEL_2a92ec0dc2604693a9a21cb05fb672be",
      "placeholder": "​",
      "style": "IPY_MODEL_3e22a143738e4ac8b8d27264a6d92363",
      "value": "Optimization Progress:  98%"
     }
    },
    "fdaa84aae8c54e7780d4d166a6759dbb": {
     "model_module": "@jupyter-widgets/controls",
     "model_module_version": "1.5.0",
     "model_name": "DescriptionStyleModel",
     "state": {
      "_model_module": "@jupyter-widgets/controls",
      "_model_module_version": "1.5.0",
      "_model_name": "DescriptionStyleModel",
      "_view_count": null,
      "_view_module": "@jupyter-widgets/base",
      "_view_module_version": "1.2.0",
      "_view_name": "StyleView",
      "description_width": ""
     }
    }
   }
  }
 },
 "nbformat": 4,
 "nbformat_minor": 1
}
